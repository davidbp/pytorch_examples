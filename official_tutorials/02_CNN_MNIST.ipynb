{
 "cells": [
  {
   "cell_type": "markdown",
   "metadata": {
    "toc": true
   },
   "source": [
    "<h1>Table of Contents<span class=\"tocSkip\"></span></h1>\n",
    "<div class=\"toc\"><ul class=\"toc-item\"></ul></div>"
   ]
  },
  {
   "cell_type": "code",
   "execution_count": 2,
   "metadata": {
    "ExecuteTime": {
     "end_time": "2020-12-07T16:23:50.361923Z",
     "start_time": "2020-12-07T16:23:49.175917Z"
    }
   },
   "outputs": [],
   "source": [
    "import numpy as np \n",
    "import pandas as pd \n",
    "\n",
    "import torch\n",
    "import torch.nn as nn\n",
    "import torch.nn.functional as F\n",
    "import torch.utils.data\n",
    "from torch.autograd import Variable\n",
    "\n",
    "from sklearn.model_selection import train_test_split\n"
   ]
  },
  {
   "cell_type": "code",
   "execution_count": 3,
   "metadata": {
    "ExecuteTime": {
     "end_time": "2020-12-07T16:23:53.414472Z",
     "start_time": "2020-12-07T16:23:50.372457Z"
    }
   },
   "outputs": [
    {
     "name": "stdout",
     "output_type": "stream",
     "text": [
      "(42000, 785)\n"
     ]
    }
   ],
   "source": [
    "df = pd.read_csv('../input/train.csv')\n",
    "print(df.shape)\n"
   ]
  },
  {
   "cell_type": "code",
   "execution_count": 4,
   "metadata": {
    "ExecuteTime": {
     "end_time": "2020-12-07T16:23:54.594644Z",
     "start_time": "2020-12-07T16:23:54.126682Z"
    }
   },
   "outputs": [],
   "source": [
    "y = df['label'].values\n",
    "X = df.drop(['label'],1).values\n",
    "X_train, X_test, y_train, y_test = train_test_split(X, y, test_size=0.15)"
   ]
  },
  {
   "cell_type": "code",
   "execution_count": 5,
   "metadata": {
    "ExecuteTime": {
     "end_time": "2020-12-07T16:23:54.644695Z",
     "start_time": "2020-12-07T16:23:54.639270Z"
    }
   },
   "outputs": [
    {
     "name": "stdout",
     "output_type": "stream",
     "text": [
      "(6300,)\n"
     ]
    }
   ],
   "source": [
    "print(y_test.shape)"
   ]
  },
  {
   "cell_type": "code",
   "execution_count": null,
   "metadata": {},
   "outputs": [],
   "source": []
  },
  {
   "cell_type": "code",
   "execution_count": 6,
   "metadata": {
    "ExecuteTime": {
     "end_time": "2020-12-07T16:23:59.657387Z",
     "start_time": "2020-12-07T16:23:59.650251Z"
    }
   },
   "outputs": [],
   "source": [
    "BATCH_SIZE = 32\n",
    "\n",
    "torch_X_train = torch.from_numpy(X_train).type(torch.LongTensor)\n",
    "torch_y_train = torch.from_numpy(y_train).type(torch.LongTensor) # data type is long\n",
    "\n",
    "# create feature and targets tensor for test set.\n",
    "torch_X_test = torch.from_numpy(X_test).type(torch.LongTensor)\n",
    "torch_y_test = torch.from_numpy(y_test).type(torch.LongTensor) # data type is long\n",
    "\n",
    "# Pytorch train and test sets\n",
    "train = torch.utils.data.TensorDataset(torch_X_train, torch_y_train)\n",
    "test = torch.utils.data.TensorDataset(torch_X_test, torch_y_test)\n",
    "\n",
    "# data loader\n",
    "train_loader = torch.utils.data.DataLoader(train, batch_size = BATCH_SIZE, shuffle = False)\n",
    "test_loader = torch.utils.data.DataLoader(test, batch_size = BATCH_SIZE, shuffle = False)"
   ]
  },
  {
   "cell_type": "code",
   "execution_count": 7,
   "metadata": {
    "ExecuteTime": {
     "end_time": "2020-12-07T16:24:00.233141Z",
     "start_time": "2020-12-07T16:24:00.225159Z"
    }
   },
   "outputs": [
    {
     "data": {
      "text/plain": [
       "tensor([[0, 0, 0,  ..., 0, 0, 0],\n",
       "        [0, 0, 0,  ..., 0, 0, 0],\n",
       "        [0, 0, 0,  ..., 0, 0, 0],\n",
       "        ...,\n",
       "        [0, 0, 0,  ..., 0, 0, 0],\n",
       "        [0, 0, 0,  ..., 0, 0, 0],\n",
       "        [0, 0, 0,  ..., 0, 0, 0]])"
      ]
     },
     "execution_count": 7,
     "metadata": {},
     "output_type": "execute_result"
    }
   ],
   "source": [
    "torch_X_train"
   ]
  },
  {
   "cell_type": "code",
   "execution_count": 8,
   "metadata": {
    "ExecuteTime": {
     "end_time": "2020-12-07T16:24:01.194039Z",
     "start_time": "2020-12-07T16:24:01.191385Z"
    }
   },
   "outputs": [
    {
     "data": {
      "text/plain": [
       "torch.int64"
      ]
     },
     "execution_count": 8,
     "metadata": {},
     "output_type": "execute_result"
    }
   ],
   "source": [
    "torch_X_train.dtype"
   ]
  },
  {
   "cell_type": "code",
   "execution_count": 9,
   "metadata": {
    "ExecuteTime": {
     "end_time": "2020-12-07T16:24:02.050009Z",
     "start_time": "2020-12-07T16:24:02.046281Z"
    }
   },
   "outputs": [],
   "source": [
    "class MLP(nn.Module):\n",
    "    def __init__(self):\n",
    "        super(MLP, self).__init__()\n",
    "        self.linear1 = nn.Linear(784,250)\n",
    "        self.linear2 = nn.Linear(250,100)\n",
    "        self.linear3 = nn.Linear(100,10)\n",
    "    \n",
    "    def forward(self,X):\n",
    "        X = F.relu(self.linear1(X))\n",
    "        X = F.relu(self.linear2(X))\n",
    "        X = self.linear3(X)\n",
    "        return F.log_softmax(X, dim=1)\n",
    " "
   ]
  },
  {
   "cell_type": "code",
   "execution_count": 10,
   "metadata": {
    "ExecuteTime": {
     "end_time": "2020-12-07T16:24:02.263812Z",
     "start_time": "2020-12-07T16:24:02.259897Z"
    }
   },
   "outputs": [
    {
     "name": "stdout",
     "output_type": "stream",
     "text": [
      "MLP(\n",
      "  (linear1): Linear(in_features=784, out_features=250, bias=True)\n",
      "  (linear2): Linear(in_features=250, out_features=100, bias=True)\n",
      "  (linear3): Linear(in_features=100, out_features=10, bias=True)\n",
      ")\n"
     ]
    }
   ],
   "source": [
    "mlp = MLP()\n",
    "print(mlp)"
   ]
  },
  {
   "cell_type": "code",
   "execution_count": 54,
   "metadata": {
    "ExecuteTime": {
     "end_time": "2020-12-07T14:47:49.870980Z",
     "start_time": "2020-12-07T14:47:49.865292Z"
    }
   },
   "outputs": [],
   "source": [
    "def fit(model, train_loader):\n",
    "    optimizer = torch.optim.Adam(model.parameters())#,lr=0.001, betas=(0.9,0.999))\n",
    "    error = nn.CrossEntropyLoss()\n",
    "    EPOCHS = 5\n",
    "    model.train()\n",
    "    for epoch in range(EPOCHS):\n",
    "        correct = 0\n",
    "        for batch_idx, (X_batch, y_batch) in enumerate(train_loader):\n",
    "            var_X_batch = Variable(X_batch).float()\n",
    "            var_y_batch = Variable(y_batch)\n",
    "            optimizer.zero_grad()\n",
    "            output = model(var_X_batch)\n",
    "            loss = error(output, var_y_batch)\n",
    "            loss.backward()\n",
    "            optimizer.step()\n",
    "\n",
    "            # Total correct predictions\n",
    "            predicted = torch.max(output.data, 1)[1] \n",
    "            correct += (predicted == var_y_batch).sum()\n",
    "            #print(correct)\n",
    "            if batch_idx % 50 == 0:\n",
    "                print('Epoch : {} [{}/{} ({:.0f}%)]\\tLoss: {:.6f}\\t Accuracy:{:.3f}%'.format(\n",
    "                    epoch, batch_idx*len(X_batch), len(train_loader.dataset), 100.*batch_idx / len(train_loader), loss.data.item(), float(correct*100) / float(BATCH_SIZE*(batch_idx+1))))\n",
    "                "
   ]
  },
  {
   "cell_type": "code",
   "execution_count": 55,
   "metadata": {
    "ExecuteTime": {
     "end_time": "2020-12-07T14:48:06.188973Z",
     "start_time": "2020-12-07T14:47:50.428500Z"
    }
   },
   "outputs": [
    {
     "name": "stdout",
     "output_type": "stream",
     "text": [
      "Epoch : 0 [0/35700 (0%)]\tLoss: 0.249096\t Accuracy:93.750%\n",
      "Epoch : 0 [1600/35700 (4%)]\tLoss: 0.288773\t Accuracy:96.998%\n",
      "Epoch : 0 [3200/35700 (9%)]\tLoss: 0.052476\t Accuracy:97.123%\n",
      "Epoch : 0 [4800/35700 (13%)]\tLoss: 0.409431\t Accuracy:96.813%\n",
      "Epoch : 0 [6400/35700 (18%)]\tLoss: 0.177817\t Accuracy:96.346%\n",
      "Epoch : 0 [8000/35700 (22%)]\tLoss: 0.000140\t Accuracy:96.178%\n",
      "Epoch : 0 [9600/35700 (27%)]\tLoss: 0.139710\t Accuracy:96.200%\n",
      "Epoch : 0 [11200/35700 (31%)]\tLoss: 0.016656\t Accuracy:96.225%\n",
      "Epoch : 0 [12800/35700 (36%)]\tLoss: 0.075822\t Accuracy:96.189%\n",
      "Epoch : 0 [14400/35700 (40%)]\tLoss: 0.290737\t Accuracy:96.161%\n",
      "Epoch : 0 [16000/35700 (45%)]\tLoss: 0.080755\t Accuracy:96.170%\n",
      "Epoch : 0 [17600/35700 (49%)]\tLoss: 0.093492\t Accuracy:96.177%\n",
      "Epoch : 0 [19200/35700 (54%)]\tLoss: 0.029989\t Accuracy:96.287%\n",
      "Epoch : 0 [20800/35700 (58%)]\tLoss: 0.133300\t Accuracy:96.304%\n",
      "Epoch : 0 [22400/35700 (63%)]\tLoss: 0.051164\t Accuracy:96.322%\n",
      "Epoch : 0 [24000/35700 (67%)]\tLoss: 0.113136\t Accuracy:96.305%\n",
      "Epoch : 0 [25600/35700 (72%)]\tLoss: 0.041669\t Accuracy:96.259%\n",
      "Epoch : 0 [27200/35700 (76%)]\tLoss: 0.075905\t Accuracy:96.265%\n",
      "Epoch : 0 [28800/35700 (81%)]\tLoss: 0.001311\t Accuracy:96.233%\n",
      "Epoch : 0 [30400/35700 (85%)]\tLoss: 0.354595\t Accuracy:96.224%\n",
      "Epoch : 0 [32000/35700 (90%)]\tLoss: 0.036084\t Accuracy:96.201%\n",
      "Epoch : 0 [33600/35700 (94%)]\tLoss: 0.102491\t Accuracy:96.176%\n",
      "Epoch : 0 [35200/35700 (99%)]\tLoss: 0.108732\t Accuracy:96.163%\n",
      "Epoch : 1 [0/35700 (0%)]\tLoss: 0.136447\t Accuracy:96.875%\n",
      "Epoch : 1 [1600/35700 (4%)]\tLoss: 0.027125\t Accuracy:96.998%\n",
      "Epoch : 1 [3200/35700 (9%)]\tLoss: 0.008204\t Accuracy:97.092%\n",
      "Epoch : 1 [4800/35700 (13%)]\tLoss: 0.224566\t Accuracy:97.123%\n",
      "Epoch : 1 [6400/35700 (18%)]\tLoss: 0.021063\t Accuracy:97.139%\n",
      "Epoch : 1 [8000/35700 (22%)]\tLoss: 0.000036\t Accuracy:97.074%\n",
      "Epoch : 1 [9600/35700 (27%)]\tLoss: 0.153369\t Accuracy:97.062%\n",
      "Epoch : 1 [11200/35700 (31%)]\tLoss: 0.031308\t Accuracy:97.098%\n",
      "Epoch : 1 [12800/35700 (36%)]\tLoss: 0.039088\t Accuracy:97.093%\n",
      "Epoch : 1 [14400/35700 (40%)]\tLoss: 0.396302\t Accuracy:97.145%\n",
      "Epoch : 1 [16000/35700 (45%)]\tLoss: 0.023141\t Accuracy:97.181%\n",
      "Epoch : 1 [17600/35700 (49%)]\tLoss: 0.009969\t Accuracy:97.125%\n",
      "Epoch : 1 [19200/35700 (54%)]\tLoss: 0.267766\t Accuracy:97.197%\n",
      "Epoch : 1 [20800/35700 (58%)]\tLoss: 0.161908\t Accuracy:97.149%\n",
      "Epoch : 1 [22400/35700 (63%)]\tLoss: 0.241759\t Accuracy:97.125%\n",
      "Epoch : 1 [24000/35700 (67%)]\tLoss: 0.010629\t Accuracy:97.062%\n",
      "Epoch : 1 [25600/35700 (72%)]\tLoss: 0.001186\t Accuracy:97.086%\n",
      "Epoch : 1 [27200/35700 (76%)]\tLoss: 0.009197\t Accuracy:97.132%\n",
      "Epoch : 1 [28800/35700 (81%)]\tLoss: 0.010290\t Accuracy:97.146%\n",
      "Epoch : 1 [30400/35700 (85%)]\tLoss: 0.028078\t Accuracy:97.115%\n",
      "Epoch : 1 [32000/35700 (90%)]\tLoss: 0.448019\t Accuracy:97.109%\n",
      "Epoch : 1 [33600/35700 (94%)]\tLoss: 0.260514\t Accuracy:97.104%\n",
      "Epoch : 1 [35200/35700 (99%)]\tLoss: 0.110800\t Accuracy:97.031%\n",
      "Epoch : 2 [0/35700 (0%)]\tLoss: 0.179629\t Accuracy:93.750%\n",
      "Epoch : 2 [1600/35700 (4%)]\tLoss: 0.192492\t Accuracy:96.078%\n",
      "Epoch : 2 [3200/35700 (9%)]\tLoss: 0.025720\t Accuracy:96.411%\n",
      "Epoch : 2 [4800/35700 (13%)]\tLoss: 0.104728\t Accuracy:96.565%\n",
      "Epoch : 2 [6400/35700 (18%)]\tLoss: 0.011813\t Accuracy:96.782%\n",
      "Epoch : 2 [8000/35700 (22%)]\tLoss: 0.005427\t Accuracy:96.937%\n",
      "Epoch : 2 [9600/35700 (27%)]\tLoss: 0.151017\t Accuracy:96.968%\n",
      "Epoch : 2 [11200/35700 (31%)]\tLoss: 0.015222\t Accuracy:96.964%\n",
      "Epoch : 2 [12800/35700 (36%)]\tLoss: 0.007372\t Accuracy:96.906%\n",
      "Epoch : 2 [14400/35700 (40%)]\tLoss: 0.494728\t Accuracy:96.958%\n",
      "Epoch : 2 [16000/35700 (45%)]\tLoss: 0.003797\t Accuracy:97.037%\n",
      "Epoch : 2 [17600/35700 (49%)]\tLoss: 0.000775\t Accuracy:97.068%\n",
      "Epoch : 2 [19200/35700 (54%)]\tLoss: 0.007746\t Accuracy:97.156%\n",
      "Epoch : 2 [20800/35700 (58%)]\tLoss: 0.069798\t Accuracy:97.192%\n",
      "Epoch : 2 [22400/35700 (63%)]\tLoss: 0.016884\t Accuracy:97.147%\n",
      "Epoch : 2 [24000/35700 (67%)]\tLoss: 0.074545\t Accuracy:97.158%\n",
      "Epoch : 2 [25600/35700 (72%)]\tLoss: 0.024890\t Accuracy:97.109%\n",
      "Epoch : 2 [27200/35700 (76%)]\tLoss: 0.181615\t Accuracy:97.176%\n",
      "Epoch : 2 [28800/35700 (81%)]\tLoss: 0.001463\t Accuracy:97.177%\n",
      "Epoch : 2 [30400/35700 (85%)]\tLoss: 0.183025\t Accuracy:97.187%\n",
      "Epoch : 2 [32000/35700 (90%)]\tLoss: 2.533500\t Accuracy:97.197%\n",
      "Epoch : 2 [33600/35700 (94%)]\tLoss: 0.145049\t Accuracy:97.178%\n",
      "Epoch : 2 [35200/35700 (99%)]\tLoss: 0.094284\t Accuracy:97.150%\n",
      "Epoch : 3 [0/35700 (0%)]\tLoss: 0.163845\t Accuracy:96.875%\n",
      "Epoch : 3 [1600/35700 (4%)]\tLoss: 0.105956\t Accuracy:97.120%\n",
      "Epoch : 3 [3200/35700 (9%)]\tLoss: 0.011060\t Accuracy:97.277%\n",
      "Epoch : 3 [4800/35700 (13%)]\tLoss: 0.196675\t Accuracy:97.351%\n",
      "Epoch : 3 [6400/35700 (18%)]\tLoss: 0.004588\t Accuracy:97.388%\n",
      "Epoch : 3 [8000/35700 (22%)]\tLoss: 0.000104\t Accuracy:97.286%\n",
      "Epoch : 3 [9600/35700 (27%)]\tLoss: 0.129482\t Accuracy:97.207%\n",
      "Epoch : 3 [11200/35700 (31%)]\tLoss: 0.020712\t Accuracy:97.293%\n",
      "Epoch : 3 [12800/35700 (36%)]\tLoss: 0.009766\t Accuracy:97.327%\n",
      "Epoch : 3 [14400/35700 (40%)]\tLoss: 0.292753\t Accuracy:97.235%\n",
      "Epoch : 3 [16000/35700 (45%)]\tLoss: 0.003502\t Accuracy:97.231%\n",
      "Epoch : 3 [17600/35700 (49%)]\tLoss: 0.082401\t Accuracy:97.232%\n",
      "Epoch : 3 [19200/35700 (54%)]\tLoss: 0.045118\t Accuracy:97.291%\n",
      "Epoch : 3 [20800/35700 (58%)]\tLoss: 0.085388\t Accuracy:97.321%\n",
      "Epoch : 3 [22400/35700 (63%)]\tLoss: 0.211277\t Accuracy:97.321%\n",
      "Epoch : 3 [24000/35700 (67%)]\tLoss: 0.042785\t Accuracy:97.312%\n",
      "Epoch : 3 [25600/35700 (72%)]\tLoss: 0.003169\t Accuracy:97.281%\n",
      "Epoch : 3 [27200/35700 (76%)]\tLoss: 0.001935\t Accuracy:97.323%\n",
      "Epoch : 3 [28800/35700 (81%)]\tLoss: 0.000214\t Accuracy:97.302%\n",
      "Epoch : 3 [30400/35700 (85%)]\tLoss: 0.041141\t Accuracy:97.348%\n",
      "Epoch : 3 [32000/35700 (90%)]\tLoss: 0.148442\t Accuracy:97.371%\n",
      "Epoch : 3 [33600/35700 (94%)]\tLoss: 0.033696\t Accuracy:97.392%\n",
      "Epoch : 3 [35200/35700 (99%)]\tLoss: 0.070855\t Accuracy:97.349%\n",
      "Epoch : 4 [0/35700 (0%)]\tLoss: 0.177569\t Accuracy:96.875%\n",
      "Epoch : 4 [1600/35700 (4%)]\tLoss: 0.030537\t Accuracy:97.733%\n",
      "Epoch : 4 [3200/35700 (9%)]\tLoss: 0.108999\t Accuracy:97.803%\n",
      "Epoch : 4 [4800/35700 (13%)]\tLoss: 0.048743\t Accuracy:97.827%\n",
      "Epoch : 4 [6400/35700 (18%)]\tLoss: 0.000812\t Accuracy:97.839%\n",
      "Epoch : 4 [8000/35700 (22%)]\tLoss: 0.000145\t Accuracy:97.834%\n",
      "Epoch : 4 [9600/35700 (27%)]\tLoss: 0.382129\t Accuracy:97.789%\n",
      "Epoch : 4 [11200/35700 (31%)]\tLoss: 0.028834\t Accuracy:97.676%\n",
      "Epoch : 4 [12800/35700 (36%)]\tLoss: 0.052412\t Accuracy:97.623%\n",
      "Epoch : 4 [14400/35700 (40%)]\tLoss: 0.254059\t Accuracy:97.554%\n",
      "Epoch : 4 [16000/35700 (45%)]\tLoss: 0.001130\t Accuracy:97.499%\n",
      "Epoch : 4 [17600/35700 (49%)]\tLoss: 0.001467\t Accuracy:97.425%\n",
      "Epoch : 4 [19200/35700 (54%)]\tLoss: 0.449892\t Accuracy:97.437%\n",
      "Epoch : 4 [20800/35700 (58%)]\tLoss: 0.108112\t Accuracy:97.413%\n",
      "Epoch : 4 [22400/35700 (63%)]\tLoss: 0.056114\t Accuracy:97.307%\n",
      "Epoch : 4 [24000/35700 (67%)]\tLoss: 0.000142\t Accuracy:97.329%\n",
      "Epoch : 4 [25600/35700 (72%)]\tLoss: 0.001213\t Accuracy:97.339%\n",
      "Epoch : 4 [27200/35700 (76%)]\tLoss: 0.152778\t Accuracy:97.393%\n",
      "Epoch : 4 [28800/35700 (81%)]\tLoss: 0.001953\t Accuracy:97.385%\n",
      "Epoch : 4 [30400/35700 (85%)]\tLoss: 0.171034\t Accuracy:97.388%\n",
      "Epoch : 4 [32000/35700 (90%)]\tLoss: 0.193226\t Accuracy:97.406%\n",
      "Epoch : 4 [33600/35700 (94%)]\tLoss: 0.105427\t Accuracy:97.422%\n",
      "Epoch : 4 [35200/35700 (99%)]\tLoss: 0.088750\t Accuracy:97.394%\n"
     ]
    }
   ],
   "source": [
    "fit(mlp, train_loader)"
   ]
  },
  {
   "cell_type": "code",
   "execution_count": 56,
   "metadata": {
    "ExecuteTime": {
     "end_time": "2020-12-07T14:48:12.088948Z",
     "start_time": "2020-12-07T14:48:12.084966Z"
    }
   },
   "outputs": [],
   "source": [
    "def evaluate(model):\n",
    "#model = mlp\n",
    "    correct = 0 \n",
    "    for test_imgs, test_labels in test_loader:\n",
    "        #print(test_imgs.shape)\n",
    "        test_imgs = Variable(test_imgs).float()\n",
    "        output = model(test_imgs)\n",
    "        predicted = torch.max(output,1)[1]\n",
    "        correct += (predicted == test_labels).sum()\n",
    "    print(\"Test accuracy:{:.3f}% \".format( float(correct) / (len(test_loader)*BATCH_SIZE)))"
   ]
  },
  {
   "cell_type": "code",
   "execution_count": 57,
   "metadata": {
    "ExecuteTime": {
     "end_time": "2020-12-07T14:48:12.519344Z",
     "start_time": "2020-12-07T14:48:12.365827Z"
    }
   },
   "outputs": [
    {
     "name": "stdout",
     "output_type": "stream",
     "text": [
      "Test accuracy:0.966% \n"
     ]
    }
   ],
   "source": [
    "evaluate(mlp)"
   ]
  },
  {
   "cell_type": "code",
   "execution_count": null,
   "metadata": {},
   "outputs": [],
   "source": []
  },
  {
   "cell_type": "code",
   "execution_count": null,
   "metadata": {},
   "outputs": [],
   "source": []
  },
  {
   "cell_type": "code",
   "execution_count": null,
   "metadata": {},
   "outputs": [],
   "source": []
  },
  {
   "cell_type": "code",
   "execution_count": null,
   "metadata": {},
   "outputs": [],
   "source": []
  }
 ],
 "metadata": {
  "kernelspec": {
   "display_name": "Python 3",
   "language": "python",
   "name": "python3"
  },
  "language_info": {
   "codemirror_mode": {
    "name": "ipython",
    "version": 3
   },
   "file_extension": ".py",
   "mimetype": "text/x-python",
   "name": "python",
   "nbconvert_exporter": "python",
   "pygments_lexer": "ipython3",
   "version": "3.7.1"
  },
  "toc": {
   "base_numbering": 1,
   "nav_menu": {},
   "number_sections": true,
   "sideBar": true,
   "skip_h1_title": false,
   "title_cell": "Table of Contents",
   "title_sidebar": "Contents",
   "toc_cell": true,
   "toc_position": {
    "height": "calc(100% - 180px)",
    "left": "10px",
    "top": "150px",
    "width": "170.1999969482422px"
   },
   "toc_section_display": true,
   "toc_window_display": false
  },
  "varInspector": {
   "cols": {
    "lenName": 16,
    "lenType": 16,
    "lenVar": 40
   },
   "kernels_config": {
    "python": {
     "delete_cmd_postfix": "",
     "delete_cmd_prefix": "del ",
     "library": "var_list.py",
     "varRefreshCmd": "print(var_dic_list())"
    },
    "r": {
     "delete_cmd_postfix": ") ",
     "delete_cmd_prefix": "rm(",
     "library": "var_list.r",
     "varRefreshCmd": "cat(var_dic_list()) "
    }
   },
   "types_to_exclude": [
    "module",
    "function",
    "builtin_function_or_method",
    "instance",
    "_Feature"
   ],
   "window_display": false
  }
 },
 "nbformat": 4,
 "nbformat_minor": 4
}
