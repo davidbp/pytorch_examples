{
 "cells": [
  {
   "cell_type": "markdown",
   "metadata": {
    "toc": true
   },
   "source": [
    "<h1>Table of Contents<span class=\"tocSkip\"></span></h1>\n",
    "<div class=\"toc\"><ul class=\"toc-item\"><li><span><a href=\"#From-np.ndarray-to-torch.Tensor\" data-toc-modified-id=\"From-np.ndarray-to-torch.Tensor-1\"><span class=\"toc-item-num\">1&nbsp;&nbsp;</span>From <code>np.ndarray</code> to <code>torch.Tensor</code></a></span></li><li><span><a href=\"#Training-a-model-manually-defining-batches\" data-toc-modified-id=\"Training-a-model-manually-defining-batches-2\"><span class=\"toc-item-num\">2&nbsp;&nbsp;</span>Training a model manually defining batches</a></span></li><li><span><a href=\"#Defining-TensorDatset-and-DataLoader\" data-toc-modified-id=\"Defining-TensorDatset-and-DataLoader-3\"><span class=\"toc-item-num\">3&nbsp;&nbsp;</span>Defining <code>TensorDatset</code> and <code>DataLoader</code></a></span></li><li><span><a href=\"#Training-with-DataLoader\" data-toc-modified-id=\"Training-with-DataLoader-4\"><span class=\"toc-item-num\">4&nbsp;&nbsp;</span>Training with <code>DataLoader</code></a></span></li></ul></div>"
   ]
  },
  {
   "cell_type": "code",
   "execution_count": 1,
   "metadata": {
    "ExecuteTime": {
     "end_time": "2020-12-08T16:29:34.381992Z",
     "start_time": "2020-12-08T16:29:33.441183Z"
    }
   },
   "outputs": [],
   "source": [
    "import numpy as np \n",
    "import pandas as pd \n",
    "\n",
    "import torch\n",
    "import torch.nn as nn\n",
    "import torch.nn.functional as F\n",
    "import torch.utils.data\n",
    "from torch.autograd import Variable\n",
    "\n",
    "from sklearn.model_selection import train_test_split\n"
   ]
  },
  {
   "cell_type": "code",
   "execution_count": 2,
   "metadata": {
    "ExecuteTime": {
     "end_time": "2020-12-08T16:29:37.368330Z",
     "start_time": "2020-12-08T16:29:34.383866Z"
    }
   },
   "outputs": [
    {
     "name": "stdout",
     "output_type": "stream",
     "text": [
      "(42000, 785)\n"
     ]
    }
   ],
   "source": [
    "df = pd.read_csv('../input/train.csv')\n",
    "print(df.shape)"
   ]
  },
  {
   "cell_type": "code",
   "execution_count": 3,
   "metadata": {
    "ExecuteTime": {
     "end_time": "2020-12-08T16:29:37.778409Z",
     "start_time": "2020-12-08T16:29:37.375156Z"
    }
   },
   "outputs": [],
   "source": [
    "y = df['label'].values\n",
    "X = df.drop(['label'],1).values\n",
    "X_train, X_test, y_train, y_test = train_test_split(X, y, test_size=0.15)"
   ]
  },
  {
   "cell_type": "code",
   "execution_count": 4,
   "metadata": {
    "ExecuteTime": {
     "end_time": "2020-12-08T16:29:37.783397Z",
     "start_time": "2020-12-08T16:29:37.781133Z"
    }
   },
   "outputs": [
    {
     "name": "stdout",
     "output_type": "stream",
     "text": [
      "(35700, 784)\n",
      "(6300,)\n"
     ]
    }
   ],
   "source": [
    "print(X_train.shape)\n",
    "print(y_test.shape)"
   ]
  },
  {
   "cell_type": "markdown",
   "metadata": {},
   "source": [
    "## From `np.ndarray` to `torch.Tensor`\n",
    "\n",
    "One of the most basic methods that we need to benefit from pytorch is the capability to translate `np.ndarray` objects to `torch.Tensor` objects\n",
    "\n",
    "- **`torch.from_numpy(X)`** creates a `torch.Tensor` from a `np.darray` object `X`\n",
    "\n",
    "\n",
    "- **`torch.from_numpy(X).dtype(torch.LongTensor)`** creates a `torch.Tensor` from a `np.darray` object `X` and casts this object as `torch.LongTensor`."
   ]
  },
  {
   "cell_type": "code",
   "execution_count": 5,
   "metadata": {
    "ExecuteTime": {
     "end_time": "2020-12-08T16:29:37.790617Z",
     "start_time": "2020-12-08T16:29:37.784788Z"
    }
   },
   "outputs": [],
   "source": [
    "BATCH_SIZE = 32\n",
    "\n",
    "torch_X_train = torch.from_numpy(X_train).type(torch.LongTensor)\n",
    "torch_y_train = torch.from_numpy(y_train).type(torch.LongTensor) # data type is long\n",
    "\n",
    "# create feature and targets tensor for test set.\n",
    "torch_X_test = torch.from_numpy(X_test).type(torch.LongTensor)\n",
    "torch_y_test = torch.from_numpy(y_test).type(torch.LongTensor)   # data type is long"
   ]
  },
  {
   "cell_type": "code",
   "execution_count": 6,
   "metadata": {
    "ExecuteTime": {
     "end_time": "2020-12-08T16:29:37.798302Z",
     "start_time": "2020-12-08T16:29:37.791955Z"
    }
   },
   "outputs": [
    {
     "data": {
      "text/plain": [
       "(torch.int64, torch.int64)"
      ]
     },
     "execution_count": 6,
     "metadata": {},
     "output_type": "execute_result"
    }
   ],
   "source": [
    "torch_X_train.dtype, torch_y_train.dtype"
   ]
  },
  {
   "cell_type": "markdown",
   "metadata": {},
   "source": [
    "## Training a model manually defining batches\n"
   ]
  },
  {
   "cell_type": "code",
   "execution_count": 7,
   "metadata": {
    "ExecuteTime": {
     "end_time": "2020-12-08T16:29:37.806997Z",
     "start_time": "2020-12-08T16:29:37.799645Z"
    }
   },
   "outputs": [
    {
     "name": "stdout",
     "output_type": "stream",
     "text": [
      "MLP(\n",
      "  (linear1): Linear(in_features=784, out_features=250, bias=True)\n",
      "  (linear2): Linear(in_features=250, out_features=100, bias=True)\n",
      "  (linear3): Linear(in_features=100, out_features=10, bias=True)\n",
      ")\n"
     ]
    }
   ],
   "source": [
    "class MLP(nn.Module):\n",
    "    def __init__(self):\n",
    "        super(MLP, self).__init__()\n",
    "        self.linear1 = nn.Linear(784,250)\n",
    "        self.linear2 = nn.Linear(250,100)\n",
    "        self.linear3 = nn.Linear(100,10)\n",
    "    \n",
    "    def forward(self,X):\n",
    "        X = F.relu(self.linear1(X))\n",
    "        X = F.relu(self.linear2(X))\n",
    "        X = self.linear3(X)\n",
    "        return F.log_softmax(X, dim=1)\n",
    "\n",
    "mlp = MLP()\n",
    "print(mlp)"
   ]
  },
  {
   "cell_type": "code",
   "execution_count": 8,
   "metadata": {
    "ExecuteTime": {
     "end_time": "2020-12-08T16:29:37.814520Z",
     "start_time": "2020-12-08T16:29:37.808262Z"
    }
   },
   "outputs": [],
   "source": [
    "def fit(model, X_train, y_train, batch_size):\n",
    "    optimizer = torch.optim.Adam(model.parameters())#,lr=0.001, betas=(0.9,0.999))\n",
    "    error = nn.CrossEntropyLoss()\n",
    "    EPOCHS = 5\n",
    "    model.train()\n",
    "    n_examples, n_features = X_train.shape\n",
    "    n_batches_per_epoch = int(np.ceil(n_examples/batch_size))\n",
    "\n",
    "    for epoch in range(EPOCHS):\n",
    "        correct = 0\n",
    "        for batch_idx in range(n_batches_per_epoch):\n",
    "            start_pos = batch_idx * batch_size\n",
    "            end_pos = start_pos + batch_size\n",
    "            X_batch = X_train[start_pos:end_pos]\n",
    "            y_batch = y_train[start_pos:end_pos]\n",
    "            \n",
    "            # X_batch.shape -> torch.Size([32, 784])\n",
    "            var_X_batch = Variable(X_batch).float() \n",
    "            # y_batch.shape -> torch.Size([32]) \n",
    "            var_y_batch = Variable(y_batch)\n",
    "            \n",
    "            optimizer.zero_grad()\n",
    "            \n",
    "            output = model(var_X_batch)\n",
    "            loss = error(output, var_y_batch)\n",
    "            loss.backward()\n",
    "            optimizer.step()\n",
    "\n",
    "            # Total correct predictions\n",
    "            predicted = torch.max(output.data, 1)[1] \n",
    "            correct += (predicted == var_y_batch).sum()\n",
    "            #print(correct)\n",
    "            if batch_idx % 50 == 0:\n",
    "                print('Epoch : {} [{}/{} ({:.0f}%)]\\tLoss: {:.6f}\\t Accuracy:{:.3f}%'.format(\n",
    "                    epoch, batch_idx*len(X_batch), n_examples, 100.*batch_idx /n_examples, loss.data.item(), float(correct*100) / float(BATCH_SIZE*(batch_idx+1))))\n",
    "                "
   ]
  },
  {
   "cell_type": "code",
   "execution_count": 9,
   "metadata": {
    "ExecuteTime": {
     "end_time": "2020-12-08T16:29:53.846219Z",
     "start_time": "2020-12-08T16:29:37.815911Z"
    }
   },
   "outputs": [
    {
     "name": "stdout",
     "output_type": "stream",
     "text": [
      "Epoch : 0 [0/35700 (0%)]\tLoss: 10.773353\t Accuracy:9.375%\n",
      "Epoch : 0 [1600/35700 (0%)]\tLoss: 0.990512\t Accuracy:64.583%\n",
      "Epoch : 0 [3200/35700 (0%)]\tLoss: 0.801226\t Accuracy:74.938%\n",
      "Epoch : 0 [4800/35700 (0%)]\tLoss: 0.303902\t Accuracy:78.849%\n",
      "Epoch : 0 [6400/35700 (1%)]\tLoss: 0.638404\t Accuracy:80.815%\n",
      "Epoch : 0 [8000/35700 (1%)]\tLoss: 0.297553\t Accuracy:82.545%\n",
      "Epoch : 0 [9600/35700 (1%)]\tLoss: 0.603274\t Accuracy:84.084%\n",
      "Epoch : 0 [11200/35700 (1%)]\tLoss: 0.322457\t Accuracy:85.087%\n",
      "Epoch : 0 [12800/35700 (1%)]\tLoss: 0.053558\t Accuracy:85.817%\n",
      "Epoch : 0 [14400/35700 (1%)]\tLoss: 0.611289\t Accuracy:86.433%\n",
      "Epoch : 0 [16000/35700 (1%)]\tLoss: 0.299729\t Accuracy:86.976%\n",
      "Epoch : 0 [17600/35700 (2%)]\tLoss: 0.179127\t Accuracy:87.472%\n",
      "Epoch : 0 [19200/35700 (2%)]\tLoss: 0.558746\t Accuracy:87.848%\n",
      "Epoch : 0 [20800/35700 (2%)]\tLoss: 0.531599\t Accuracy:88.201%\n",
      "Epoch : 0 [22400/35700 (2%)]\tLoss: 0.060310\t Accuracy:88.463%\n",
      "Epoch : 0 [24000/35700 (2%)]\tLoss: 0.117869\t Accuracy:88.848%\n",
      "Epoch : 0 [25600/35700 (2%)]\tLoss: 0.213132\t Accuracy:89.166%\n",
      "Epoch : 0 [27200/35700 (2%)]\tLoss: 0.233523\t Accuracy:89.461%\n",
      "Epoch : 0 [28800/35700 (3%)]\tLoss: 0.318333\t Accuracy:89.765%\n",
      "Epoch : 0 [30400/35700 (3%)]\tLoss: 0.012774\t Accuracy:90.007%\n",
      "Epoch : 0 [32000/35700 (3%)]\tLoss: 0.011028\t Accuracy:90.175%\n",
      "Epoch : 0 [33600/35700 (3%)]\tLoss: 0.148765\t Accuracy:90.328%\n",
      "Epoch : 0 [35200/35700 (3%)]\tLoss: 0.271440\t Accuracy:90.506%\n",
      "Epoch : 1 [0/35700 (0%)]\tLoss: 0.086920\t Accuracy:96.875%\n",
      "Epoch : 1 [1600/35700 (0%)]\tLoss: 0.181425\t Accuracy:94.547%\n",
      "Epoch : 1 [3200/35700 (0%)]\tLoss: 0.132089\t Accuracy:94.462%\n",
      "Epoch : 1 [4800/35700 (0%)]\tLoss: 0.143338\t Accuracy:94.992%\n",
      "Epoch : 1 [6400/35700 (1%)]\tLoss: 0.048736\t Accuracy:94.776%\n",
      "Epoch : 1 [8000/35700 (1%)]\tLoss: 0.179436\t Accuracy:94.622%\n",
      "Epoch : 1 [9600/35700 (1%)]\tLoss: 0.170275\t Accuracy:94.736%\n",
      "Epoch : 1 [11200/35700 (1%)]\tLoss: 0.039472\t Accuracy:94.792%\n",
      "Epoch : 1 [12800/35700 (1%)]\tLoss: 0.063985\t Accuracy:94.794%\n",
      "Epoch : 1 [14400/35700 (1%)]\tLoss: 0.484123\t Accuracy:94.789%\n",
      "Epoch : 1 [16000/35700 (1%)]\tLoss: 0.124605\t Accuracy:94.867%\n",
      "Epoch : 1 [17600/35700 (2%)]\tLoss: 0.010529\t Accuracy:94.901%\n",
      "Epoch : 1 [19200/35700 (2%)]\tLoss: 0.036883\t Accuracy:94.806%\n",
      "Epoch : 1 [20800/35700 (2%)]\tLoss: 0.155178\t Accuracy:94.825%\n",
      "Epoch : 1 [22400/35700 (2%)]\tLoss: 0.030885\t Accuracy:94.847%\n",
      "Epoch : 1 [24000/35700 (2%)]\tLoss: 0.006157\t Accuracy:94.915%\n",
      "Epoch : 1 [25600/35700 (2%)]\tLoss: 0.051073\t Accuracy:95.026%\n",
      "Epoch : 1 [27200/35700 (2%)]\tLoss: 0.133556\t Accuracy:95.072%\n",
      "Epoch : 1 [28800/35700 (3%)]\tLoss: 0.131615\t Accuracy:95.099%\n",
      "Epoch : 1 [30400/35700 (3%)]\tLoss: 0.013360\t Accuracy:95.117%\n",
      "Epoch : 1 [32000/35700 (3%)]\tLoss: 0.003949\t Accuracy:95.105%\n",
      "Epoch : 1 [33600/35700 (3%)]\tLoss: 0.065039\t Accuracy:95.103%\n",
      "Epoch : 1 [35200/35700 (3%)]\tLoss: 0.092772\t Accuracy:95.175%\n",
      "Epoch : 2 [0/35700 (0%)]\tLoss: 0.152293\t Accuracy:96.875%\n",
      "Epoch : 2 [1600/35700 (0%)]\tLoss: 0.141649\t Accuracy:95.833%\n",
      "Epoch : 2 [3200/35700 (0%)]\tLoss: 0.082337\t Accuracy:95.668%\n",
      "Epoch : 2 [4800/35700 (0%)]\tLoss: 0.758957\t Accuracy:95.695%\n",
      "Epoch : 2 [6400/35700 (1%)]\tLoss: 0.196222\t Accuracy:95.600%\n",
      "Epoch : 2 [8000/35700 (1%)]\tLoss: 0.311522\t Accuracy:95.493%\n",
      "Epoch : 2 [9600/35700 (1%)]\tLoss: 0.103048\t Accuracy:95.546%\n",
      "Epoch : 2 [11200/35700 (1%)]\tLoss: 0.050624\t Accuracy:95.540%\n",
      "Epoch : 2 [12800/35700 (1%)]\tLoss: 0.008866\t Accuracy:95.659%\n",
      "Epoch : 2 [14400/35700 (1%)]\tLoss: 0.293644\t Accuracy:95.732%\n",
      "Epoch : 2 [16000/35700 (1%)]\tLoss: 0.135259\t Accuracy:95.752%\n",
      "Epoch : 2 [17600/35700 (2%)]\tLoss: 0.077919\t Accuracy:95.786%\n",
      "Epoch : 2 [19200/35700 (2%)]\tLoss: 0.072056\t Accuracy:95.835%\n",
      "Epoch : 2 [20800/35700 (2%)]\tLoss: 0.535964\t Accuracy:95.833%\n",
      "Epoch : 2 [22400/35700 (2%)]\tLoss: 0.025575\t Accuracy:95.876%\n",
      "Epoch : 2 [24000/35700 (2%)]\tLoss: 0.043805\t Accuracy:95.976%\n",
      "Epoch : 2 [25600/35700 (2%)]\tLoss: 0.030748\t Accuracy:96.060%\n",
      "Epoch : 2 [27200/35700 (2%)]\tLoss: 0.201757\t Accuracy:96.093%\n",
      "Epoch : 2 [28800/35700 (3%)]\tLoss: 0.081826\t Accuracy:96.102%\n",
      "Epoch : 2 [30400/35700 (3%)]\tLoss: 0.021494\t Accuracy:96.057%\n",
      "Epoch : 2 [32000/35700 (3%)]\tLoss: 0.045750\t Accuracy:96.026%\n",
      "Epoch : 2 [33600/35700 (3%)]\tLoss: 0.223743\t Accuracy:96.051%\n",
      "Epoch : 2 [35200/35700 (3%)]\tLoss: 0.154171\t Accuracy:96.055%\n",
      "Epoch : 3 [0/35700 (0%)]\tLoss: 0.088695\t Accuracy:96.875%\n",
      "Epoch : 3 [1600/35700 (0%)]\tLoss: 0.135426\t Accuracy:96.875%\n",
      "Epoch : 3 [3200/35700 (0%)]\tLoss: 0.082041\t Accuracy:96.442%\n",
      "Epoch : 3 [4800/35700 (0%)]\tLoss: 0.055344\t Accuracy:96.647%\n",
      "Epoch : 3 [6400/35700 (1%)]\tLoss: 0.619080\t Accuracy:96.206%\n",
      "Epoch : 3 [8000/35700 (1%)]\tLoss: 0.275981\t Accuracy:95.966%\n",
      "Epoch : 3 [9600/35700 (1%)]\tLoss: 0.170670\t Accuracy:95.972%\n",
      "Epoch : 3 [11200/35700 (1%)]\tLoss: 0.023543\t Accuracy:95.860%\n",
      "Epoch : 3 [12800/35700 (1%)]\tLoss: 0.028622\t Accuracy:95.870%\n",
      "Epoch : 3 [14400/35700 (1%)]\tLoss: 0.288612\t Accuracy:95.960%\n",
      "Epoch : 3 [16000/35700 (1%)]\tLoss: 0.160732\t Accuracy:96.008%\n",
      "Epoch : 3 [17600/35700 (2%)]\tLoss: 0.129437\t Accuracy:96.104%\n",
      "Epoch : 3 [19200/35700 (2%)]\tLoss: 0.175394\t Accuracy:96.121%\n",
      "Epoch : 3 [20800/35700 (2%)]\tLoss: 0.098064\t Accuracy:96.150%\n",
      "Epoch : 3 [22400/35700 (2%)]\tLoss: 0.017224\t Accuracy:96.238%\n",
      "Epoch : 3 [24000/35700 (2%)]\tLoss: 0.003218\t Accuracy:96.263%\n",
      "Epoch : 3 [25600/35700 (2%)]\tLoss: 0.157883\t Accuracy:96.298%\n",
      "Epoch : 3 [27200/35700 (2%)]\tLoss: 0.218361\t Accuracy:96.328%\n",
      "Epoch : 3 [28800/35700 (3%)]\tLoss: 0.528829\t Accuracy:96.344%\n",
      "Epoch : 3 [30400/35700 (3%)]\tLoss: 0.004531\t Accuracy:96.336%\n",
      "Epoch : 3 [32000/35700 (3%)]\tLoss: 0.004059\t Accuracy:96.360%\n",
      "Epoch : 3 [33600/35700 (3%)]\tLoss: 0.127478\t Accuracy:96.337%\n",
      "Epoch : 3 [35200/35700 (3%)]\tLoss: 0.053017\t Accuracy:96.361%\n",
      "Epoch : 4 [0/35700 (0%)]\tLoss: 0.011401\t Accuracy:100.000%\n",
      "Epoch : 4 [1600/35700 (0%)]\tLoss: 0.117914\t Accuracy:96.814%\n",
      "Epoch : 4 [3200/35700 (0%)]\tLoss: 0.108572\t Accuracy:96.256%\n",
      "Epoch : 4 [4800/35700 (0%)]\tLoss: 0.018958\t Accuracy:96.461%\n",
      "Epoch : 4 [6400/35700 (1%)]\tLoss: 0.010794\t Accuracy:96.595%\n",
      "Epoch : 4 [8000/35700 (1%)]\tLoss: 0.163725\t Accuracy:96.389%\n",
      "Epoch : 4 [9600/35700 (1%)]\tLoss: 0.154571\t Accuracy:96.532%\n",
      "Epoch : 4 [11200/35700 (1%)]\tLoss: 0.000554\t Accuracy:96.537%\n",
      "Epoch : 4 [12800/35700 (1%)]\tLoss: 0.009551\t Accuracy:96.532%\n",
      "Epoch : 4 [14400/35700 (1%)]\tLoss: 0.352141\t Accuracy:96.522%\n",
      "Epoch : 4 [16000/35700 (1%)]\tLoss: 0.072331\t Accuracy:96.594%\n",
      "Epoch : 4 [17600/35700 (2%)]\tLoss: 0.221611\t Accuracy:96.586%\n",
      "Epoch : 4 [19200/35700 (2%)]\tLoss: 0.086419\t Accuracy:96.631%\n",
      "Epoch : 4 [20800/35700 (2%)]\tLoss: 0.025687\t Accuracy:96.625%\n",
      "Epoch : 4 [22400/35700 (2%)]\tLoss: 0.050048\t Accuracy:96.630%\n",
      "Epoch : 4 [24000/35700 (2%)]\tLoss: 0.002173\t Accuracy:96.650%\n",
      "Epoch : 4 [25600/35700 (2%)]\tLoss: 0.181725\t Accuracy:96.719%\n",
      "Epoch : 4 [27200/35700 (2%)]\tLoss: 0.126302\t Accuracy:96.746%\n",
      "Epoch : 4 [28800/35700 (3%)]\tLoss: 0.073642\t Accuracy:96.806%\n",
      "Epoch : 4 [30400/35700 (3%)]\tLoss: 0.003722\t Accuracy:96.773%\n",
      "Epoch : 4 [32000/35700 (3%)]\tLoss: 0.018577\t Accuracy:96.781%\n",
      "Epoch : 4 [33600/35700 (3%)]\tLoss: 0.085270\t Accuracy:96.792%\n",
      "Epoch : 4 [35200/35700 (3%)]\tLoss: 0.032620\t Accuracy:96.810%\n"
     ]
    }
   ],
   "source": [
    "BATCH_SIZE = 32\n",
    "fit(mlp, torch_X_train, torch_y_train, BATCH_SIZE)"
   ]
  },
  {
   "cell_type": "markdown",
   "metadata": {},
   "source": [
    "## Defining `TensorDatset` and `DataLoader`"
   ]
  },
  {
   "cell_type": "markdown",
   "metadata": {
    "ExecuteTime": {
     "end_time": "2020-12-07T15:06:32.666858Z",
     "start_time": "2020-12-07T15:06:32.663078Z"
    }
   },
   "source": [
    "Once we have our `torch.Tensor` objects from numpy arrays we can create `TensorDataset` objects\n",
    "\n",
    "\n",
    "- **`torch.utils.data.TensorDataset(Xtensor,ytensor)`**\n",
    "\n",
    "This type of `TensorDataset` objects can be used for \n",
    "\n",
    "- Wrapping datasets from tensors.\n",
    "- Each sample will be retrieved by indexing tensors along the first dimension.\n",
    "\n"
   ]
  },
  {
   "cell_type": "code",
   "execution_count": 10,
   "metadata": {
    "ExecuteTime": {
     "end_time": "2020-12-08T16:29:53.849793Z",
     "start_time": "2020-12-08T16:29:53.847628Z"
    }
   },
   "outputs": [],
   "source": [
    "# Pytorch train and test sets\n",
    "train = torch.utils.data.TensorDataset(torch_X_train,torch_y_train)\n",
    "test = torch.utils.data.TensorDataset(torch_X_test,torch_y_test)"
   ]
  },
  {
   "cell_type": "code",
   "execution_count": 11,
   "metadata": {
    "ExecuteTime": {
     "end_time": "2020-12-08T16:29:53.854378Z",
     "start_time": "2020-12-08T16:29:53.851381Z"
    },
    "scrolled": true
   },
   "outputs": [
    {
     "data": {
      "text/plain": [
       "torch.utils.data.dataset.TensorDataset"
      ]
     },
     "execution_count": 11,
     "metadata": {},
     "output_type": "execute_result"
    }
   ],
   "source": [
    "type(train)"
   ]
  },
  {
   "cell_type": "code",
   "execution_count": 12,
   "metadata": {
    "ExecuteTime": {
     "end_time": "2020-12-08T16:29:53.860904Z",
     "start_time": "2020-12-08T16:29:53.855893Z"
    }
   },
   "outputs": [
    {
     "data": {
      "text/plain": [
       "(tensor([[0, 0, 0,  ..., 0, 0, 0],\n",
       "         [0, 0, 0,  ..., 0, 0, 0],\n",
       "         [0, 0, 0,  ..., 0, 0, 0],\n",
       "         ...,\n",
       "         [0, 0, 0,  ..., 0, 0, 0],\n",
       "         [0, 0, 0,  ..., 0, 0, 0],\n",
       "         [0, 0, 0,  ..., 0, 0, 0]]), tensor([4, 4, 9,  ..., 9, 5, 3]))"
      ]
     },
     "execution_count": 12,
     "metadata": {},
     "output_type": "execute_result"
    }
   ],
   "source": [
    "train.tensors"
   ]
  },
  {
   "cell_type": "markdown",
   "metadata": {
    "ExecuteTime": {
     "end_time": "2020-12-07T15:09:13.341380Z",
     "start_time": "2020-12-07T15:09:13.337825Z"
    }
   },
   "source": [
    "Moreover, from a `TensorDataset` we can create our own loader with:\n",
    "    \n",
    "- **`torch.utils.data.DataLoader(Xtensor, batch_size, shuffle)`**\n"
   ]
  },
  {
   "cell_type": "code",
   "execution_count": 13,
   "metadata": {
    "ExecuteTime": {
     "end_time": "2020-12-08T16:29:53.865371Z",
     "start_time": "2020-12-08T16:29:53.862571Z"
    }
   },
   "outputs": [],
   "source": [
    "# data loader\n",
    "train_loader = torch.utils.data.DataLoader(train, batch_size = BATCH_SIZE, shuffle = False)\n",
    "test_loader = torch.utils.data.DataLoader(test, batch_size = BATCH_SIZE, shuffle = False)"
   ]
  },
  {
   "cell_type": "markdown",
   "metadata": {},
   "source": [
    "Note that the train_loader is an iterable with length equal to the number of examples\n",
    "divided by the batch size."
   ]
  },
  {
   "cell_type": "code",
   "execution_count": 14,
   "metadata": {
    "ExecuteTime": {
     "end_time": "2020-12-08T16:29:53.871358Z",
     "start_time": "2020-12-08T16:29:53.867448Z"
    }
   },
   "outputs": [
    {
     "data": {
      "text/plain": [
       "1116.0"
      ]
     },
     "execution_count": 14,
     "metadata": {},
     "output_type": "execute_result"
    }
   ],
   "source": [
    "np.ceil(len(X_train)/BATCH_SIZE)"
   ]
  },
  {
   "cell_type": "code",
   "execution_count": 15,
   "metadata": {
    "ExecuteTime": {
     "end_time": "2020-12-08T16:29:53.877766Z",
     "start_time": "2020-12-08T16:29:53.873295Z"
    }
   },
   "outputs": [
    {
     "data": {
      "text/plain": [
       "1116"
      ]
     },
     "execution_count": 15,
     "metadata": {},
     "output_type": "execute_result"
    }
   ],
   "source": [
    "len(train_loader)"
   ]
  },
  {
   "cell_type": "markdown",
   "metadata": {},
   "source": [
    "## Training with `DataLoader`"
   ]
  },
  {
   "cell_type": "code",
   "execution_count": 16,
   "metadata": {
    "ExecuteTime": {
     "end_time": "2020-12-08T16:29:53.887283Z",
     "start_time": "2020-12-08T16:29:53.879661Z"
    }
   },
   "outputs": [
    {
     "name": "stdout",
     "output_type": "stream",
     "text": [
      "MLP(\n",
      "  (linear1): Linear(in_features=784, out_features=250, bias=True)\n",
      "  (linear2): Linear(in_features=250, out_features=100, bias=True)\n",
      "  (linear3): Linear(in_features=100, out_features=10, bias=True)\n",
      ")\n"
     ]
    }
   ],
   "source": [
    "class MLP(nn.Module):\n",
    "    def __init__(self):\n",
    "        super(MLP, self).__init__()\n",
    "        self.linear1 = nn.Linear(784,250)\n",
    "        self.linear2 = nn.Linear(250,100)\n",
    "        self.linear3 = nn.Linear(100,10)\n",
    "    \n",
    "    def forward(self,X):\n",
    "        X = F.relu(self.linear1(X))\n",
    "        X = F.relu(self.linear2(X))\n",
    "        X = self.linear3(X)\n",
    "        return F.log_softmax(X, dim=1)\n",
    "\n",
    "mlp = MLP()\n",
    "print(mlp)"
   ]
  },
  {
   "cell_type": "code",
   "execution_count": 17,
   "metadata": {
    "ExecuteTime": {
     "end_time": "2020-12-08T16:29:53.902019Z",
     "start_time": "2020-12-08T16:29:53.894635Z"
    }
   },
   "outputs": [],
   "source": [
    "def fit(model, train_loader):\n",
    "    optimizer = torch.optim.Adam(model.parameters())#,lr=0.001, betas=(0.9,0.999))\n",
    "    error = nn.CrossEntropyLoss()\n",
    "    EPOCHS = 5\n",
    "    model.train()\n",
    "    for epoch in range(EPOCHS):\n",
    "        correct = 0\n",
    "        for batch_idx, (X_batch, y_batch) in enumerate(train_loader):\n",
    "\n",
    "            # X_batch.shape -> torch.Size([32, 784])\n",
    "            var_X_batch = Variable(X_batch).float() \n",
    "            # y_batch.shape -> torch.Size([32]) \n",
    "            var_y_batch = Variable(y_batch)\n",
    "            \n",
    "            optimizer.zero_grad()\n",
    "            \n",
    "            output = model(var_X_batch)\n",
    "            loss = error(output, var_y_batch)\n",
    "            loss.backward()\n",
    "            optimizer.step()\n",
    "\n",
    "            # Total correct predictions\n",
    "            predicted = torch.max(output.data, 1)[1] \n",
    "            correct += (predicted == var_y_batch).sum()\n",
    "            #print(correct)\n",
    "            if batch_idx % 50 == 0:\n",
    "                print('Epoch : {} [{}/{} ({:.0f}%)]\\tLoss: {:.6f}\\t Accuracy:{:.3f}%'.format(\n",
    "                    epoch, batch_idx*len(X_batch), len(train_loader.dataset), 100.*batch_idx / len(train_loader), loss.data.item(), float(correct*100) / float(BATCH_SIZE*(batch_idx+1))))\n",
    "                "
   ]
  },
  {
   "cell_type": "code",
   "execution_count": 18,
   "metadata": {
    "ExecuteTime": {
     "end_time": "2020-12-08T16:30:10.574678Z",
     "start_time": "2020-12-08T16:29:53.907363Z"
    }
   },
   "outputs": [
    {
     "name": "stdout",
     "output_type": "stream",
     "text": [
      "Epoch : 0 [0/35700 (0%)]\tLoss: 11.249049\t Accuracy:3.125%\n",
      "Epoch : 0 [1600/35700 (4%)]\tLoss: 1.115189\t Accuracy:67.525%\n",
      "Epoch : 0 [3200/35700 (9%)]\tLoss: 0.647357\t Accuracy:75.990%\n",
      "Epoch : 0 [4800/35700 (13%)]\tLoss: 0.746244\t Accuracy:80.029%\n",
      "Epoch : 0 [6400/35700 (18%)]\tLoss: 0.667564\t Accuracy:82.136%\n",
      "Epoch : 0 [8000/35700 (22%)]\tLoss: 0.543482\t Accuracy:83.441%\n",
      "Epoch : 0 [9600/35700 (27%)]\tLoss: 0.364149\t Accuracy:84.686%\n",
      "Epoch : 0 [11200/35700 (31%)]\tLoss: 0.445759\t Accuracy:85.390%\n",
      "Epoch : 0 [12800/35700 (36%)]\tLoss: 0.113490\t Accuracy:86.050%\n",
      "Epoch : 0 [14400/35700 (40%)]\tLoss: 0.565959\t Accuracy:86.585%\n",
      "Epoch : 0 [16000/35700 (45%)]\tLoss: 0.399679\t Accuracy:87.238%\n",
      "Epoch : 0 [17600/35700 (49%)]\tLoss: 0.126908\t Accuracy:87.733%\n",
      "Epoch : 0 [19200/35700 (54%)]\tLoss: 0.301579\t Accuracy:88.108%\n",
      "Epoch : 0 [20800/35700 (58%)]\tLoss: 0.459118\t Accuracy:88.378%\n",
      "Epoch : 0 [22400/35700 (63%)]\tLoss: 0.152706\t Accuracy:88.668%\n",
      "Epoch : 0 [24000/35700 (67%)]\tLoss: 0.097677\t Accuracy:89.015%\n",
      "Epoch : 0 [25600/35700 (72%)]\tLoss: 0.090166\t Accuracy:89.295%\n",
      "Epoch : 0 [27200/35700 (76%)]\tLoss: 0.309411\t Accuracy:89.571%\n",
      "Epoch : 0 [28800/35700 (81%)]\tLoss: 0.325577\t Accuracy:89.800%\n",
      "Epoch : 0 [30400/35700 (85%)]\tLoss: 0.105479\t Accuracy:89.991%\n",
      "Epoch : 0 [32000/35700 (90%)]\tLoss: 0.113304\t Accuracy:90.210%\n",
      "Epoch : 0 [33600/35700 (94%)]\tLoss: 0.232222\t Accuracy:90.337%\n",
      "Epoch : 0 [35200/35700 (99%)]\tLoss: 0.245940\t Accuracy:90.438%\n",
      "Epoch : 1 [0/35700 (0%)]\tLoss: 0.365359\t Accuracy:90.625%\n",
      "Epoch : 1 [1600/35700 (4%)]\tLoss: 0.308250\t Accuracy:94.118%\n",
      "Epoch : 1 [3200/35700 (9%)]\tLoss: 0.176964\t Accuracy:94.462%\n",
      "Epoch : 1 [4800/35700 (13%)]\tLoss: 0.343306\t Accuracy:94.909%\n",
      "Epoch : 1 [6400/35700 (18%)]\tLoss: 0.126157\t Accuracy:94.698%\n",
      "Epoch : 1 [8000/35700 (22%)]\tLoss: 0.259290\t Accuracy:94.584%\n",
      "Epoch : 1 [9600/35700 (27%)]\tLoss: 0.325234\t Accuracy:94.799%\n",
      "Epoch : 1 [11200/35700 (31%)]\tLoss: 0.040273\t Accuracy:94.685%\n",
      "Epoch : 1 [12800/35700 (36%)]\tLoss: 0.018795\t Accuracy:94.599%\n",
      "Epoch : 1 [14400/35700 (40%)]\tLoss: 0.531432\t Accuracy:94.665%\n",
      "Epoch : 1 [16000/35700 (45%)]\tLoss: 0.100841\t Accuracy:94.754%\n",
      "Epoch : 1 [17600/35700 (49%)]\tLoss: 0.029983\t Accuracy:94.816%\n",
      "Epoch : 1 [19200/35700 (54%)]\tLoss: 0.064938\t Accuracy:94.837%\n",
      "Epoch : 1 [20800/35700 (58%)]\tLoss: 0.321815\t Accuracy:94.859%\n",
      "Epoch : 1 [22400/35700 (63%)]\tLoss: 0.111000\t Accuracy:94.878%\n",
      "Epoch : 1 [24000/35700 (67%)]\tLoss: 0.100740\t Accuracy:94.973%\n",
      "Epoch : 1 [25600/35700 (72%)]\tLoss: 0.040939\t Accuracy:95.057%\n",
      "Epoch : 1 [27200/35700 (76%)]\tLoss: 0.235291\t Accuracy:95.153%\n",
      "Epoch : 1 [28800/35700 (81%)]\tLoss: 0.053146\t Accuracy:95.172%\n",
      "Epoch : 1 [30400/35700 (85%)]\tLoss: 0.038621\t Accuracy:95.160%\n",
      "Epoch : 1 [32000/35700 (90%)]\tLoss: 0.003410\t Accuracy:95.180%\n",
      "Epoch : 1 [33600/35700 (94%)]\tLoss: 0.179571\t Accuracy:95.159%\n",
      "Epoch : 1 [35200/35700 (99%)]\tLoss: 0.090889\t Accuracy:95.169%\n",
      "Epoch : 2 [0/35700 (0%)]\tLoss: 0.089097\t Accuracy:96.875%\n",
      "Epoch : 2 [1600/35700 (4%)]\tLoss: 0.284988\t Accuracy:95.098%\n",
      "Epoch : 2 [3200/35700 (9%)]\tLoss: 0.126775\t Accuracy:95.080%\n",
      "Epoch : 2 [4800/35700 (13%)]\tLoss: 0.174782\t Accuracy:95.426%\n",
      "Epoch : 2 [6400/35700 (18%)]\tLoss: 0.176086\t Accuracy:95.491%\n",
      "Epoch : 2 [8000/35700 (22%)]\tLoss: 0.114467\t Accuracy:95.418%\n",
      "Epoch : 2 [9600/35700 (27%)]\tLoss: 0.189563\t Accuracy:95.629%\n",
      "Epoch : 2 [11200/35700 (31%)]\tLoss: 0.008574\t Accuracy:95.611%\n",
      "Epoch : 2 [12800/35700 (36%)]\tLoss: 0.025019\t Accuracy:95.651%\n",
      "Epoch : 2 [14400/35700 (40%)]\tLoss: 0.466483\t Accuracy:95.683%\n",
      "Epoch : 2 [16000/35700 (45%)]\tLoss: 0.086976\t Accuracy:95.740%\n",
      "Epoch : 2 [17600/35700 (49%)]\tLoss: 0.090884\t Accuracy:95.729%\n",
      "Epoch : 2 [19200/35700 (54%)]\tLoss: 0.070391\t Accuracy:95.788%\n",
      "Epoch : 2 [20800/35700 (58%)]\tLoss: 0.419503\t Accuracy:95.824%\n",
      "Epoch : 2 [22400/35700 (63%)]\tLoss: 0.132997\t Accuracy:95.890%\n",
      "Epoch : 2 [24000/35700 (67%)]\tLoss: 0.008309\t Accuracy:95.893%\n",
      "Epoch : 2 [25600/35700 (72%)]\tLoss: 0.010987\t Accuracy:95.974%\n",
      "Epoch : 2 [27200/35700 (76%)]\tLoss: 0.290014\t Accuracy:96.027%\n",
      "Epoch : 2 [28800/35700 (81%)]\tLoss: 0.121909\t Accuracy:96.046%\n",
      "Epoch : 2 [30400/35700 (85%)]\tLoss: 0.003230\t Accuracy:96.024%\n",
      "Epoch : 2 [32000/35700 (90%)]\tLoss: 0.040019\t Accuracy:96.016%\n",
      "Epoch : 2 [33600/35700 (94%)]\tLoss: 0.082507\t Accuracy:96.028%\n",
      "Epoch : 2 [35200/35700 (99%)]\tLoss: 0.234866\t Accuracy:96.052%\n",
      "Epoch : 3 [0/35700 (0%)]\tLoss: 0.282921\t Accuracy:90.625%\n",
      "Epoch : 3 [1600/35700 (4%)]\tLoss: 0.168812\t Accuracy:95.895%\n",
      "Epoch : 3 [3200/35700 (9%)]\tLoss: 0.063905\t Accuracy:95.390%\n",
      "Epoch : 3 [4800/35700 (13%)]\tLoss: 0.117438\t Accuracy:95.695%\n",
      "Epoch : 3 [6400/35700 (18%)]\tLoss: 0.035637\t Accuracy:95.802%\n",
      "Epoch : 3 [8000/35700 (22%)]\tLoss: 0.217041\t Accuracy:95.904%\n",
      "Epoch : 3 [9600/35700 (27%)]\tLoss: 0.130397\t Accuracy:96.127%\n",
      "Epoch : 3 [11200/35700 (31%)]\tLoss: 0.007231\t Accuracy:96.083%\n",
      "Epoch : 3 [12800/35700 (36%)]\tLoss: 0.008464\t Accuracy:96.103%\n",
      "Epoch : 3 [14400/35700 (40%)]\tLoss: 0.430228\t Accuracy:96.099%\n",
      "Epoch : 3 [16000/35700 (45%)]\tLoss: 0.088615\t Accuracy:96.102%\n",
      "Epoch : 3 [17600/35700 (49%)]\tLoss: 0.334421\t Accuracy:96.058%\n",
      "Epoch : 3 [19200/35700 (54%)]\tLoss: 0.008944\t Accuracy:96.012%\n",
      "Epoch : 3 [20800/35700 (58%)]\tLoss: 0.552827\t Accuracy:96.035%\n",
      "Epoch : 3 [22400/35700 (63%)]\tLoss: 0.040414\t Accuracy:96.055%\n",
      "Epoch : 3 [24000/35700 (67%)]\tLoss: 0.141604\t Accuracy:96.114%\n",
      "Epoch : 3 [25600/35700 (72%)]\tLoss: 0.010450\t Accuracy:96.145%\n",
      "Epoch : 3 [27200/35700 (76%)]\tLoss: 0.268633\t Accuracy:96.196%\n",
      "Epoch : 3 [28800/35700 (81%)]\tLoss: 0.152178\t Accuracy:96.216%\n",
      "Epoch : 3 [30400/35700 (85%)]\tLoss: 0.002622\t Accuracy:96.201%\n",
      "Epoch : 3 [32000/35700 (90%)]\tLoss: 0.058013\t Accuracy:96.198%\n",
      "Epoch : 3 [33600/35700 (94%)]\tLoss: 0.185068\t Accuracy:96.182%\n",
      "Epoch : 3 [35200/35700 (99%)]\tLoss: 0.063727\t Accuracy:96.205%\n",
      "Epoch : 4 [0/35700 (0%)]\tLoss: 0.090936\t Accuracy:96.875%\n",
      "Epoch : 4 [1600/35700 (4%)]\tLoss: 0.350960\t Accuracy:96.630%\n",
      "Epoch : 4 [3200/35700 (9%)]\tLoss: 0.054883\t Accuracy:96.535%\n",
      "Epoch : 4 [4800/35700 (13%)]\tLoss: 0.172019\t Accuracy:96.544%\n",
      "Epoch : 4 [6400/35700 (18%)]\tLoss: 0.391877\t Accuracy:96.331%\n",
      "Epoch : 4 [8000/35700 (22%)]\tLoss: 0.119815\t Accuracy:96.365%\n",
      "Epoch : 4 [9600/35700 (27%)]\tLoss: 0.127611\t Accuracy:96.491%\n",
      "Epoch : 4 [11200/35700 (31%)]\tLoss: 0.006978\t Accuracy:96.519%\n",
      "Epoch : 4 [12800/35700 (36%)]\tLoss: 0.005692\t Accuracy:96.579%\n",
      "Epoch : 4 [14400/35700 (40%)]\tLoss: 0.305650\t Accuracy:96.591%\n",
      "Epoch : 4 [16000/35700 (45%)]\tLoss: 0.215642\t Accuracy:96.519%\n",
      "Epoch : 4 [17600/35700 (49%)]\tLoss: 0.138387\t Accuracy:96.495%\n",
      "Epoch : 4 [19200/35700 (54%)]\tLoss: 0.085056\t Accuracy:96.516%\n",
      "Epoch : 4 [20800/35700 (58%)]\tLoss: 0.429950\t Accuracy:96.491%\n",
      "Epoch : 4 [22400/35700 (63%)]\tLoss: 0.141029\t Accuracy:96.469%\n",
      "Epoch : 4 [24000/35700 (67%)]\tLoss: 0.024568\t Accuracy:96.517%\n",
      "Epoch : 4 [25600/35700 (72%)]\tLoss: 0.139920\t Accuracy:96.563%\n",
      "Epoch : 4 [27200/35700 (76%)]\tLoss: 0.415357\t Accuracy:96.633%\n",
      "Epoch : 4 [28800/35700 (81%)]\tLoss: 0.014821\t Accuracy:96.681%\n",
      "Epoch : 4 [30400/35700 (85%)]\tLoss: 0.054286\t Accuracy:96.717%\n",
      "Epoch : 4 [32000/35700 (90%)]\tLoss: 0.001191\t Accuracy:96.703%\n",
      "Epoch : 4 [33600/35700 (94%)]\tLoss: 0.017611\t Accuracy:96.703%\n",
      "Epoch : 4 [35200/35700 (99%)]\tLoss: 0.154993\t Accuracy:96.744%\n"
     ]
    }
   ],
   "source": [
    "fit(mlp, train_loader)"
   ]
  },
  {
   "cell_type": "code",
   "execution_count": 19,
   "metadata": {
    "ExecuteTime": {
     "end_time": "2020-12-08T16:30:10.579367Z",
     "start_time": "2020-12-08T16:30:10.576097Z"
    }
   },
   "outputs": [],
   "source": [
    "def evaluate(model):\n",
    "#model = mlp\n",
    "    correct = 0 \n",
    "    for test_imgs, test_labels in test_loader:\n",
    "        #print(test_imgs.shape)\n",
    "        test_imgs = Variable(test_imgs).float()\n",
    "        output = model(test_imgs)\n",
    "        predicted = torch.max(output,1)[1]\n",
    "        correct += (predicted == test_labels).sum()\n",
    "    print(\"Test accuracy:{:.3f}% \".format( float(correct) / (len(test_loader)*BATCH_SIZE)))"
   ]
  },
  {
   "cell_type": "code",
   "execution_count": 20,
   "metadata": {
    "ExecuteTime": {
     "end_time": "2020-12-08T16:30:10.710136Z",
     "start_time": "2020-12-08T16:30:10.580873Z"
    }
   },
   "outputs": [
    {
     "name": "stdout",
     "output_type": "stream",
     "text": [
      "Test accuracy:0.955% \n"
     ]
    }
   ],
   "source": [
    "evaluate(mlp)"
   ]
  },
  {
   "cell_type": "code",
   "execution_count": null,
   "metadata": {},
   "outputs": [],
   "source": []
  },
  {
   "cell_type": "code",
   "execution_count": null,
   "metadata": {},
   "outputs": [],
   "source": []
  },
  {
   "cell_type": "code",
   "execution_count": null,
   "metadata": {},
   "outputs": [],
   "source": []
  },
  {
   "cell_type": "code",
   "execution_count": null,
   "metadata": {},
   "outputs": [],
   "source": []
  }
 ],
 "metadata": {
  "kernelspec": {
   "display_name": "Python 3",
   "language": "python",
   "name": "python3"
  },
  "language_info": {
   "codemirror_mode": {
    "name": "ipython",
    "version": 3
   },
   "file_extension": ".py",
   "mimetype": "text/x-python",
   "name": "python",
   "nbconvert_exporter": "python",
   "pygments_lexer": "ipython3",
   "version": "3.7.1"
  },
  "toc": {
   "base_numbering": 1,
   "nav_menu": {},
   "number_sections": true,
   "sideBar": true,
   "skip_h1_title": false,
   "title_cell": "Table of Contents",
   "title_sidebar": "Contents",
   "toc_cell": true,
   "toc_position": {},
   "toc_section_display": true,
   "toc_window_display": false
  },
  "varInspector": {
   "cols": {
    "lenName": 16,
    "lenType": 16,
    "lenVar": 40
   },
   "kernels_config": {
    "python": {
     "delete_cmd_postfix": "",
     "delete_cmd_prefix": "del ",
     "library": "var_list.py",
     "varRefreshCmd": "print(var_dic_list())"
    },
    "r": {
     "delete_cmd_postfix": ") ",
     "delete_cmd_prefix": "rm(",
     "library": "var_list.r",
     "varRefreshCmd": "cat(var_dic_list()) "
    }
   },
   "types_to_exclude": [
    "module",
    "function",
    "builtin_function_or_method",
    "instance",
    "_Feature"
   ],
   "window_display": false
  }
 },
 "nbformat": 4,
 "nbformat_minor": 4
}
