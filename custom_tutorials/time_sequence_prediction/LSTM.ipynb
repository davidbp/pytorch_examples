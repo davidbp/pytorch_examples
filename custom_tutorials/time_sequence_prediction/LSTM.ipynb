{
 "cells": [
  {
   "cell_type": "markdown",
   "metadata": {
    "toc": true
   },
   "source": [
    "<h1>Table of Contents<span class=\"tocSkip\"></span></h1>\n",
    "<div class=\"toc\"><ul class=\"toc-item\"><li><span><a href=\"#LSTM-tutorial-pytorch\" data-toc-modified-id=\"LSTM-tutorial-pytorch-1\"><span class=\"toc-item-num\">1&nbsp;&nbsp;</span>LSTM tutorial pytorch</a></span></li><li><span><a href=\"#Generate-data\" data-toc-modified-id=\"Generate-data-2\"><span class=\"toc-item-num\">2&nbsp;&nbsp;</span>Generate data</a></span><ul class=\"toc-item\"><li><span><a href=\"#LSTM-and-LSTMCell-from-pytorch\" data-toc-modified-id=\"LSTM-and-LSTMCell-from-pytorch-2.1\"><span class=\"toc-item-num\">2.1&nbsp;&nbsp;</span>LSTM and LSTMCell from pytorch</a></span><ul class=\"toc-item\"><li><span><a href=\"#Help-function-of-torch.nn.LSTM\" data-toc-modified-id=\"Help-function-of-torch.nn.LSTM-2.1.1\"><span class=\"toc-item-num\">2.1.1&nbsp;&nbsp;</span>Help function of torch.nn.LSTM</a></span></li><li><span><a href=\"#Help-function-of-torch.nn.LSTMCell\" data-toc-modified-id=\"Help-function-of-torch.nn.LSTMCell-2.1.2\"><span class=\"toc-item-num\">2.1.2&nbsp;&nbsp;</span>Help function of torch.nn.LSTMCell</a></span></li></ul></li></ul></li><li><span><a href=\"#Inspecting-LSTM-from-torch.nn\" data-toc-modified-id=\"Inspecting-LSTM-from-torch.nn-3\"><span class=\"toc-item-num\">3&nbsp;&nbsp;</span>Inspecting LSTM from torch.nn</a></span><ul class=\"toc-item\"><li><ul class=\"toc-item\"><li><span><a href=\"#All-weights-can-be-found-in-lstm.all_weights[0]\" data-toc-modified-id=\"All-weights-can-be-found-in-lstm.all_weights[0]-3.0.1\"><span class=\"toc-item-num\">3.0.1&nbsp;&nbsp;</span>All weights can be found in lstm.all_weights[0]</a></span></li><li><span><a href=\"#Stacking-LSTMs\" data-toc-modified-id=\"Stacking-LSTMs-3.0.2\"><span class=\"toc-item-num\">3.0.2&nbsp;&nbsp;</span>Stacking LSTMs</a></span></li></ul></li></ul></li><li><span><a href=\"#Forward-pass-LSTM\" data-toc-modified-id=\"Forward-pass-LSTM-4\"><span class=\"toc-item-num\">4&nbsp;&nbsp;</span>Forward pass LSTM</a></span><ul class=\"toc-item\"><li><ul class=\"toc-item\"><li><span><a href=\"#forward-pass-single-example\" data-toc-modified-id=\"forward-pass-single-example-4.0.1\"><span class=\"toc-item-num\">4.0.1&nbsp;&nbsp;</span>forward pass single example</a></span></li><li><span><a href=\"#forward-minibatch\" data-toc-modified-id=\"forward-minibatch-4.0.2\"><span class=\"toc-item-num\">4.0.2&nbsp;&nbsp;</span>forward minibatch</a></span></li></ul></li></ul></li></ul></div>"
   ]
  },
  {
   "cell_type": "markdown",
   "metadata": {},
   "source": [
    "## LSTM tutorial pytorch\n",
    "\n",
    "\n",
    "More tutorials can be found here:\n",
    "\n",
    "- https://github.com/spro/practical-pytorch"
   ]
  },
  {
   "cell_type": "code",
   "execution_count": 1,
   "metadata": {
    "ExecuteTime": {
     "end_time": "2020-05-08T10:14:56.447649Z",
     "start_time": "2020-05-08T10:14:56.014693Z"
    }
   },
   "outputs": [],
   "source": [
    "import numpy as np\n",
    "import torch\n",
    "import matplotlib.pyplot as plt"
   ]
  },
  {
   "cell_type": "code",
   "execution_count": 2,
   "metadata": {
    "ExecuteTime": {
     "end_time": "2020-05-08T10:14:56.452433Z",
     "start_time": "2020-05-08T10:14:56.449063Z"
    }
   },
   "outputs": [],
   "source": [
    "%matplotlib inline"
   ]
  },
  {
   "cell_type": "markdown",
   "metadata": {},
   "source": [
    "## Generate data"
   ]
  },
  {
   "cell_type": "code",
   "execution_count": 3,
   "metadata": {
    "ExecuteTime": {
     "end_time": "2020-05-08T10:14:57.355691Z",
     "start_time": "2020-05-08T10:14:57.337477Z"
    }
   },
   "outputs": [
    {
     "name": "stdout",
     "output_type": "stream",
     "text": [
      "data.shape:      \t\t (100, 1000)\n",
      "data[1:].shape: \t\t (1000,)\n"
     ]
    }
   ],
   "source": [
    "np.random.seed(2)\n",
    "\n",
    "T = 20\n",
    "L = 1000\n",
    "N = 100\n",
    "\n",
    "x = np.empty((N, L), 'int64')\n",
    "x[:] = np.array(range(L)) +  np.random.randint(-4 * T, 4 * T, N).reshape(N, 1)\n",
    "data = np.sin(0.7*x / 1.0 / T).astype('float64') \n",
    "torch.save(data, open('traindata.pt', 'wb'))\n",
    "\n",
    "print(\"data.shape:      \\t\\t\", data.shape)\n",
    "print(\"data[1:].shape: \\t\\t\", data[1,:].shape)"
   ]
  },
  {
   "cell_type": "code",
   "execution_count": 4,
   "metadata": {
    "ExecuteTime": {
     "end_time": "2020-05-08T10:14:57.643815Z",
     "start_time": "2020-05-08T10:14:57.551364Z"
    },
    "scrolled": true
   },
   "outputs": [
    {
     "data": {
      "image/png": "[encoded data removed]",
      "text/plain": [
       "<Figure size 432x288 with 1 Axes>"
      ]
     },
     "metadata": {
      "needs_background": "light"
     },
     "output_type": "display_data"
    }
   ],
   "source": [
    "plt.plot(data[1,:])\n",
    "plt.show()"
   ]
  },
  {
   "cell_type": "markdown",
   "metadata": {},
   "source": [
    "### LSTM and LSTMCell from pytorch\n",
    "\n",
    "About LSTM and LSTM cell\n",
    "\n",
    "- https://discuss.pytorch.org/t/different-between-lstm-and-lstmcell-function/5657\n",
    "\n",
    "\n",
    "About timeseries prediction\n",
    "\n",
    "- http://www.jakob-aungiers.com/articles/a/LSTM-Neural-Network-for-Time-Series-Prediction\n",
    "\n",
    "#### Help function of torch.nn.LSTM\n",
    "\n",
    "\n",
    "    class LSTM(RNNBase)\n",
    "       Applies a multi-layer long short-term memory (LSTM) RNN to an input\n",
    "       sequence.\n",
    "       \n",
    "       \n",
    "       For each element in the input sequence, each layer computes the following\n",
    "       function:\n",
    "       \n",
    "       .. math::\n",
    "       \n",
    "               \\begin{array}{ll}\n",
    "               i_t = \\mathrm{sigmoid}(W_{ii} x_t + b_{ii} + W_{hi} h_{(t-1)} + b_{hi}) \\\\\n",
    "               f_t = \\mathrm{sigmoid}(W_{if} x_t + b_{if} + W_{hf} h_{(t-1)} + b_{hf}) \\\\\n",
    "               g_t = \\tanh(W_{ig} x_t + b_{ig} + W_{hc} h_{(t-1)} + b_{hg}) \\\\\n",
    "               o_t = \\mathrm{sigmoid}(W_{io} x_t + b_{io} + W_{ho} h_{(t-1)} + b_{ho}) \\\\\n",
    "               c_t = f_t * c_{(t-1)} + i_t * g_t \\\\\n",
    "               h_t = o_t * \\tanh(c_t)\n",
    "               \\end{array}\n",
    "       \n",
    "       where :math:`h_t` is the hidden state at time `t`, :math:`c_t` is the cell\n",
    "       state at time `t`, :math:`x_t` is the hidden state of the previous layer at\n",
    "       time `t` or :math:`input_t` for the first layer, and :math:`i_t`,\n",
    "       :math:`f_t`, :math:`g_t`, :math:`o_t` are the input, forget, cell,\n",
    "       and out gates, respectively.\n",
    "       \n",
    "       Args:\n",
    "           input_size: The number of expected features in the input x\n",
    "           hidden_size: The number of features in the hidden state h\n",
    "           num_layers: Number of recurrent layers.\n",
    "           bias: If False, then the layer does not use bias weights b_ih and b_hh.\n",
    "               Default: True\n",
    "           batch_first: If True, then the input and output tensors are provided\n",
    "               as (batch, seq, feature)\n",
    "           dropout: If non-zero, introduces a dropout layer on the outputs of each\n",
    "               RNN layer except the last layer\n",
    "           bidirectional: If True, becomes a bidirectional RNN. Default: False\n",
    "       \n",
    "       Inputs: input, (h_0, c_0)\n",
    "           - **input** (seq_len, batch, input_size): tensor containing the features\n",
    "             of the input sequence.\n",
    "             The input can also be a packed variable length sequence.\n",
    "             See :func:`torch.nn.utils.rnn.pack_padded_sequence` for details.\n",
    "           - **h_0** (num_layers \\* num_directions, batch, hidden_size): tensor\n",
    "             containing the initial hidden state for each element in the batch.\n",
    "           - **c_0** (num_layers \\* num_directions, batch, hidden_size): tensor\n",
    "             containing the initial cell state for each element in the batch.\n",
    "       \n",
    "       \n",
    "       Outputs: output, (h_n, c_n)\n",
    "           - **output** (seq_len, batch, hidden_size * num_directions): tensor\n",
    "             containing the output features `(h_t)` from the last layer of the RNN,\n",
    "             for each t. If a :class:`torch.nn.utils.rnn.PackedSequence` has been\n",
    "             given as the input, the output will also be a packed sequence.\n",
    "           - **h_n** (num_layers * num_directions, batch, hidden_size): tensor\n",
    "             containing the hidden state for t=seq_len\n",
    "           - **c_n** (num_layers * num_directions, batch, hidden_size): tensor\n",
    "             containing the cell state for t=seq_len\n",
    "       \n",
    "       Attributes:\n",
    "           weight_ih_l[k] : the learnable input-hidden weights of the k-th layer\n",
    "               `(W_ii|W_if|W_ig|W_io)`, of shape `(4*hidden_size x input_size)`\n",
    "           weight_hh_l[k] : the learnable hidden-hidden weights of the k-th layer\n",
    "               `(W_hi|W_hf|W_hg|W_ho)`, of shape `(4*hidden_size x hidden_size)`\n",
    "           bias_ih_l[k] : the learnable input-hidden bias of the k-th layer\n",
    "               `(b_ii|b_if|b_ig|b_io)`, of shape `(4*hidden_size)`\n",
    "           bias_hh_l[k] : the learnable hidden-hidden bias of the k-th layer\n",
    "               `(b_hi|b_hf|b_hg|b_ho)`, of shape `(4*hidden_size)`\n",
    "       \n",
    "       Examples::\n",
    "       \n",
    "           >>> rnn = nn.LSTM(10, 20, 2)\n",
    "           >>> input = Variable(torch.randn(5, 3, 10))\n",
    "           >>> h0 = Variable(torch.randn(2, 3, 20))\n",
    "           >>> c0 = Variable(torch.randn(2, 3, 20))\n",
    "           >>> output, hn = rnn(input, (h0, c0))\n",
    "       \n",
    "       \n",
    "#### Help function of torch.nn.LSTMCell\n",
    "\n",
    "    class LSTMCell(RNNCellBase)\n",
    "       A long short-term memory (LSTM) cell.\n",
    "\n",
    "       .. math::\n",
    "\n",
    "           \\begin{array}{ll}\n",
    "           i = \\mathrm{sigmoid}(W_{ii} x + b_{ii} + W_{hi} h + b_{hi}) \\\\\n",
    "           f = \\mathrm{sigmoid}(W_{if} x + b_{if} + W_{hf} h + b_{hf}) \\\\\n",
    "           g = \\tanh(W_{ig} x + b_{ig} + W_{hc} h + b_{hg}) \\\\\n",
    "           o = \\mathrm{sigmoid}(W_{io} x + b_{io} + W_{ho} h + b_{ho}) \\\\\n",
    "           c' = f * c + i * g \\\\\n",
    "           h' = o * \\tanh(c') \\\\\n",
    "           \\end{array}\n",
    "\n",
    "       Args:\n",
    "           input_size: The number of expected features in the input x\n",
    "           hidden_size: The number of features in the hidden state h\n",
    "           bias: If `False`, then the layer does not use bias weights `b_ih` and\n",
    "               `b_hh`. Default: True\n",
    "\n",
    "       Inputs: input, (h_0, c_0)\n",
    "           - **input** (batch, input_size): tensor containing input features\n",
    "           - **h_0** (batch, hidden_size): tensor containing the initial hidden\n",
    "             state for each element in the batch.\n",
    "           - **c_0** (batch. hidden_size): tensor containing the initial cell state\n",
    "             for each element in the batch.\n",
    "\n",
    "       Outputs: h_1, c_1\n",
    "           - **h_1** (batch, hidden_size): tensor containing the next hidden state\n",
    "             for each element in the batch\n",
    "           - **c_1** (batch, hidden_size): tensor containing the next cell state\n",
    "             for each element in the batch\n",
    "\n",
    "       Attributes:\n",
    "           weight_ih: the learnable input-hidden weights, of shape\n",
    "               `(4*hidden_size x input_size)`\n",
    "           weight_hh: the learnable hidden-hidden weights, of shape\n",
    "               `(4*hidden_size x hidden_size)`\n",
    "           bias_ih: the learnable input-hidden bias, of shape `(4*hidden_size)`\n",
    "           bias_hh: the learnable hidden-hidden bias, of shape `(4*hidden_size)`\n",
    "\n",
    "       Examples::\n",
    "\n",
    "           >>> rnn = nn.LSTMCell(10, 20)\n",
    "           >>> input = Variable(torch.randn(6, 3, 10))\n",
    "           >>> hx = Variable(torch.randn(3, 20))\n",
    "           >>> cx = Variable(torch.randn(3, 20))\n",
    "           >>> output = []\n",
    "           >>> for i in range(6):\n",
    "           ...     hx, cx = rnn(input[i], (hx, cx))\n",
    "           ...     output.append(hx)\n",
    "\n",
    "       Method resolution order:\n",
    "           LSTMCell\n",
    "           RNNCellBase\n",
    "           torch.nn.modules.module.Module\n",
    "           builtins.object\n"
   ]
  },
  {
   "cell_type": "markdown",
   "metadata": {},
   "source": [
    "## Inspecting LSTM from torch.nn\n",
    "\n",
    "\n",
    "- Pytorch's LSTM expects all of its inputs to be 3D tensors\n",
    "- The semantics of the axes of these tensors is important. \n",
    "    - The first axis is the sequence itself\n",
    "    - the second indexes instances in the mini-batch,\n",
    "    - the third indexes elements of the input. "
   ]
  },
  {
   "cell_type": "code",
   "execution_count": 5,
   "metadata": {
    "ExecuteTime": {
     "end_time": "2020-05-08T10:14:59.152398Z",
     "start_time": "2020-05-08T10:14:59.047283Z"
    },
    "scrolled": true
   },
   "outputs": [
    {
     "data": {
      "text/plain": [
       "[<matplotlib.lines.Line2D at 0x7fda185cc208>]"
      ]
     },
     "execution_count": 5,
     "metadata": {},
     "output_type": "execute_result"
    },
    {
     "data": {
      "image/png": "[encoded data removed]",
      "text/plain": [
       "<Figure size 432x288 with 1 Axes>"
      ]
     },
     "metadata": {
      "needs_background": "light"
     },
     "output_type": "display_data"
    }
   ],
   "source": [
    "plt.plot(data[1, :])"
   ]
  },
  {
   "cell_type": "code",
   "execution_count": 6,
   "metadata": {
    "ExecuteTime": {
     "end_time": "2020-05-08T10:14:59.275423Z",
     "start_time": "2020-05-08T10:14:59.272197Z"
    },
    "scrolled": false
   },
   "outputs": [
    {
     "name": "stdout",
     "output_type": "stream",
     "text": [
      "n_features:  \t 1\n",
      "n_samples:   \t 1000\n",
      "hidden_size: \t 200\n"
     ]
    }
   ],
   "source": [
    "n_features  = 1\n",
    "n_samples   = data.shape[1]\n",
    "\n",
    "hidden_size = 200\n",
    "\n",
    "print(\"n_features:  \\t\", n_features)\n",
    "print(\"n_samples:   \\t\",  n_samples)\n",
    "print(\"hidden_size: \\t\", hidden_size)"
   ]
  },
  {
   "cell_type": "code",
   "execution_count": 7,
   "metadata": {
    "ExecuteTime": {
     "end_time": "2020-05-08T10:14:59.749149Z",
     "start_time": "2020-05-08T10:14:59.745500Z"
    }
   },
   "outputs": [],
   "source": [
    "# aux = torch.nn.LSTM(hidden_size, input_size, num_layers)\n",
    "lstm = torch.nn.LSTM(hidden_size=hidden_size, input_size=n_features)"
   ]
  },
  {
   "cell_type": "markdown",
   "metadata": {},
   "source": [
    "#### All weights can be found in lstm.all_weights[0]"
   ]
  },
  {
   "cell_type": "code",
   "execution_count": 8,
   "metadata": {
    "ExecuteTime": {
     "end_time": "2020-05-08T10:15:00.332802Z",
     "start_time": "2020-05-08T10:15:00.329950Z"
    }
   },
   "outputs": [
    {
     "data": {
      "text/plain": [
       "4"
      ]
     },
     "execution_count": 8,
     "metadata": {},
     "output_type": "execute_result"
    }
   ],
   "source": [
    "len(lstm.all_weights[0])"
   ]
  },
  {
   "cell_type": "code",
   "execution_count": 9,
   "metadata": {
    "ExecuteTime": {
     "end_time": "2020-05-08T10:15:00.546671Z",
     "start_time": "2020-05-08T10:15:00.543851Z"
    },
    "scrolled": true
   },
   "outputs": [
    {
     "name": "stdout",
     "output_type": "stream",
     "text": [
      "<class 'torch.nn.parameter.Parameter'>\n",
      "<class 'torch.nn.parameter.Parameter'>\n",
      "<class 'torch.nn.parameter.Parameter'>\n",
      "<class 'torch.nn.parameter.Parameter'>\n"
     ]
    }
   ],
   "source": [
    "for i in range(len(lstm.all_weights[0])):\n",
    "    print(type(lstm.all_weights[0][i]))"
   ]
  },
  {
   "cell_type": "code",
   "execution_count": 10,
   "metadata": {
    "ExecuteTime": {
     "end_time": "2020-05-08T10:15:00.906845Z",
     "start_time": "2020-05-08T10:15:00.903576Z"
    },
    "scrolled": true
   },
   "outputs": [
    {
     "name": "stdout",
     "output_type": "stream",
     "text": [
      "torch.Size([800, 1])\n",
      "torch.Size([800, 200])\n",
      "torch.Size([800])\n",
      "torch.Size([800])\n"
     ]
    }
   ],
   "source": [
    "print(lstm.all_weights[0][0].size())\n",
    "print(lstm.all_weights[0][1].size())\n",
    "print(lstm.all_weights[0][2].size())\n",
    "print(lstm.all_weights[0][3].size())"
   ]
  },
  {
   "cell_type": "markdown",
   "metadata": {},
   "source": [
    "#### Stacking LSTMs"
   ]
  },
  {
   "cell_type": "code",
   "execution_count": 40,
   "metadata": {
    "ExecuteTime": {
     "end_time": "2020-05-08T10:15:59.261775Z",
     "start_time": "2020-05-08T10:15:59.258149Z"
    }
   },
   "outputs": [
    {
     "name": "stdout",
     "output_type": "stream",
     "text": [
      "len(aux.state_dict()): \t\t 8\n",
      "len(aux.all_weights): \t\t 2\n",
      "length all_weights per layer:  [4, 4]\n"
     ]
    }
   ],
   "source": [
    "aux = torch.nn.LSTM(10, 20, 2)\n",
    "\n",
    "print(\"len(aux.state_dict()): \\t\\t\", len(aux.state_dict()))\n",
    "print(\"len(aux.all_weights): \\t\\t\",  len(aux.all_weights))\n",
    "print(\"length all_weights per layer: \", [len(all_weights) for all_weights in aux.all_weights] )"
   ]
  },
  {
   "cell_type": "code",
   "execution_count": 41,
   "metadata": {
    "ExecuteTime": {
     "end_time": "2020-05-08T10:16:01.873205Z",
     "start_time": "2020-05-08T10:16:01.868390Z"
    },
    "scrolled": false
   },
   "outputs": [
    {
     "name": "stdout",
     "output_type": "stream",
     "text": [
      "len(aux.state_dict()): \t\t 12\n",
      "len(aux.all_weights): \t\t 3\n",
      "length all_weights per layer:    [4, 4, 4]\n"
     ]
    }
   ],
   "source": [
    "aux = torch.nn.LSTM(10, 20, 3)\n",
    "\n",
    "print(\"len(aux.state_dict()): \\t\\t\", len(aux.state_dict()))\n",
    "print(\"len(aux.all_weights): \\t\\t\", len(aux.all_weights))\n",
    "print(\"length all_weights per layer:   \", [len(all_weights) for all_weights in aux.all_weights] )"
   ]
  },
  {
   "cell_type": "markdown",
   "metadata": {},
   "source": [
    "## Forward pass LSTM"
   ]
  },
  {
   "cell_type": "code",
   "execution_count": 63,
   "metadata": {
    "ExecuteTime": {
     "end_time": "2020-05-08T10:16:53.853194Z",
     "start_time": "2020-05-08T10:16:53.843420Z"
    }
   },
   "outputs": [],
   "source": [
    "np.random.seed(2)\n",
    "T = 20   \n",
    "L = 1000 \n",
    "N = 100  \n",
    "\n",
    "x = np.empty((N, L), 'int64')\n",
    "x[:] = np.array(range(L)) +  np.random.randint(-4 * T, 4 * T, N).reshape(N, 1)\n",
    "data = np.sin(0.7 * x / 1.0 / T).astype('float64') \n",
    "torch.save(data, open('traindata.pt', 'wb'))\n",
    "\n",
    "data = torch.Tensor(data)"
   ]
  },
  {
   "cell_type": "code",
   "execution_count": 64,
   "metadata": {
    "ExecuteTime": {
     "end_time": "2020-05-08T10:16:54.092278Z",
     "start_time": "2020-05-08T10:16:54.088760Z"
    }
   },
   "outputs": [
    {
     "data": {
      "text/plain": [
       "torch.Size([100, 1000])"
      ]
     },
     "execution_count": 64,
     "metadata": {},
     "output_type": "execute_result"
    }
   ],
   "source": [
    "data.shape"
   ]
  },
  {
   "cell_type": "code",
   "execution_count": 65,
   "metadata": {
    "ExecuteTime": {
     "end_time": "2020-05-08T10:16:56.749098Z",
     "start_time": "2020-05-08T10:16:56.746400Z"
    }
   },
   "outputs": [],
   "source": [
    "lstm = torch.nn.LSTM(hidden_size=100, input_size=10)"
   ]
  },
  {
   "cell_type": "code",
   "execution_count": 68,
   "metadata": {
    "ExecuteTime": {
     "end_time": "2020-05-08T10:17:04.893878Z",
     "start_time": "2020-05-08T10:17:04.891376Z"
    },
    "scrolled": true
   },
   "outputs": [
    {
     "name": "stdout",
     "output_type": "stream",
     "text": [
      "Help on method forward in module torch.nn.modules.rnn:\n",
      "\n",
      "forward(input, hx=None) method of torch.nn.modules.rnn.LSTM instance\n",
      "    Defines the computation performed at every call.\n",
      "    \n",
      "    Should be overridden by all subclasses.\n",
      "    \n",
      "    .. note::\n",
      "        Although the recipe for forward pass needs to be defined within\n",
      "        this function, one should call the :class:`Module` instance afterwards\n",
      "        instead of this since the former takes care of running the\n",
      "        registered hooks while the latter silently ignores them.\n",
      "\n"
     ]
    }
   ],
   "source": [
    "help(lstm.forward)"
   ]
  },
  {
   "cell_type": "markdown",
   "metadata": {},
   "source": [
    "#### forward pass single example"
   ]
  },
  {
   "cell_type": "code",
   "execution_count": 87,
   "metadata": {
    "ExecuteTime": {
     "end_time": "2020-05-08T10:17:47.881016Z",
     "start_time": "2020-05-08T10:17:47.878131Z"
    }
   },
   "outputs": [
    {
     "data": {
      "text/plain": [
       "torch.Size([400, 100])"
      ]
     },
     "execution_count": 87,
     "metadata": {},
     "output_type": "execute_result"
    }
   ],
   "source": [
    "lstm.weight_hh_l0.shape"
   ]
  },
  {
   "cell_type": "code",
   "execution_count": 88,
   "metadata": {
    "ExecuteTime": {
     "end_time": "2020-05-08T10:17:48.071729Z",
     "start_time": "2020-05-08T10:17:48.068931Z"
    }
   },
   "outputs": [
    {
     "data": {
      "text/plain": [
       "torch.Size([400, 10])"
      ]
     },
     "execution_count": 88,
     "metadata": {},
     "output_type": "execute_result"
    }
   ],
   "source": [
    "lstm.weight_ih_l0.shape"
   ]
  },
  {
   "cell_type": "code",
   "execution_count": 90,
   "metadata": {
    "ExecuteTime": {
     "end_time": "2020-05-08T10:17:55.013739Z",
     "start_time": "2020-05-08T10:17:55.010334Z"
    }
   },
   "outputs": [
    {
     "data": {
      "text/plain": [
       "torch.Size([1, 10])"
      ]
     },
     "execution_count": 90,
     "metadata": {},
     "output_type": "execute_result"
    }
   ],
   "source": [
    "# This does not work because to forward propagate we need variables not tensors\n",
    "X = torch.rand(500, 10)\n",
    "x = X[1:2, :]\n",
    "x.size()\n",
    "#aux = lstm.forward(x)"
   ]
  },
  {
   "cell_type": "code",
   "execution_count": 91,
   "metadata": {
    "ExecuteTime": {
     "end_time": "2020-05-08T10:17:56.418957Z",
     "start_time": "2020-05-08T10:17:56.416579Z"
    }
   },
   "outputs": [],
   "source": [
    "X = torch.autograd.Variable(torch.rand(500, 10))"
   ]
  },
  {
   "cell_type": "code",
   "execution_count": 144,
   "metadata": {
    "ExecuteTime": {
     "end_time": "2020-05-08T10:20:54.994030Z",
     "start_time": "2020-05-08T10:20:54.991282Z"
    },
    "scrolled": true
   },
   "outputs": [
    {
     "data": {
      "text/plain": [
       "torch.Size([1, 10])"
      ]
     },
     "execution_count": 144,
     "metadata": {},
     "output_type": "execute_result"
    }
   ],
   "source": [
    "x = X[0:1, :]\n",
    "x.size()"
   ]
  },
  {
   "cell_type": "code",
   "execution_count": 145,
   "metadata": {
    "ExecuteTime": {
     "end_time": "2020-05-08T10:20:55.859084Z",
     "start_time": "2020-05-08T10:20:55.856544Z"
    }
   },
   "outputs": [],
   "source": [
    "aux = lstm.forward(x.view(1,1,-1))"
   ]
  },
  {
   "cell_type": "code",
   "execution_count": 146,
   "metadata": {
    "ExecuteTime": {
     "end_time": "2020-05-08T10:20:56.219240Z",
     "start_time": "2020-05-08T10:20:56.216404Z"
    }
   },
   "outputs": [
    {
     "data": {
      "text/plain": [
       "torch.Size([1, 1, 100])"
      ]
     },
     "execution_count": 146,
     "metadata": {},
     "output_type": "execute_result"
    }
   ],
   "source": [
    "aux[0].size()"
   ]
  },
  {
   "cell_type": "code",
   "execution_count": 147,
   "metadata": {
    "ExecuteTime": {
     "end_time": "2020-05-08T10:20:56.557892Z",
     "start_time": "2020-05-08T10:20:56.554170Z"
    }
   },
   "outputs": [
    {
     "name": "stdout",
     "output_type": "stream",
     "text": [
      "type component 0 lstm.forward: \t <class 'torch.Tensor'>\n",
      "type component 1 lstm.forward: \t <class 'tuple'>\n",
      "\n",
      "\n",
      "size compoment 0 lstm.forward: \t torch.Size([1, 1, 100])\n",
      "len  component 1 lstm.forward: \t 2\n",
      "\n",
      "\n",
      "size compoment 1,0 lstm.forward: \t torch.Size([1, 1, 100])\n",
      "size compoment 1,1 lstm.forward: \t torch.Size([1, 1, 100])\n"
     ]
    }
   ],
   "source": [
    "print(\"type component 0 lstm.forward: \\t\", type(aux[0]))\n",
    "print(\"type component 1 lstm.forward: \\t\", type(aux[1]))\n",
    "\n",
    "print(\"\\n\")\n",
    "print(\"size compoment 0 lstm.forward: \\t\", aux[0].size())\n",
    "print(\"len  component 1 lstm.forward: \\t\", len(aux[1]))\n",
    "\n",
    "print(\"\\n\")\n",
    "print(\"size compoment 1,0 lstm.forward: \\t\", aux[1][0].size())\n",
    "print(\"size compoment 1,1 lstm.forward: \\t\", aux[1][1].size())"
   ]
  },
  {
   "cell_type": "markdown",
   "metadata": {},
   "source": [
    "#### forward minibatch\n",
    "\n",
    "we can do `lstm.forward(input, hidden)` or simply `lstm(input, hidden)` to make a forward pass. Both functions (which do the same operation) return the output of the lsm and the current hidden state after the forward pass.\n",
    "\n",
    "    lstm_out, hidden = lstm.forward(input, hidden)\n"
   ]
  },
  {
   "cell_type": "code",
   "execution_count": 149,
   "metadata": {
    "ExecuteTime": {
     "end_time": "2020-05-08T10:21:05.298614Z",
     "start_time": "2020-05-08T10:21:05.295506Z"
    }
   },
   "outputs": [
    {
     "data": {
      "text/plain": [
       "torch.Size([5, 10])"
      ]
     },
     "execution_count": 149,
     "metadata": {},
     "output_type": "execute_result"
    }
   ],
   "source": [
    "batch_size = 5\n",
    "x = X[0:batch_size, :]\n",
    "x.size()"
   ]
  },
  {
   "cell_type": "code",
   "execution_count": 150,
   "metadata": {
    "ExecuteTime": {
     "end_time": "2020-05-08T10:21:05.467418Z",
     "start_time": "2020-05-08T10:21:05.463723Z"
    }
   },
   "outputs": [
    {
     "data": {
      "text/plain": [
       "Parameter containing:\n",
       "tensor([[-0.0141, -0.0948,  0.0588,  ...,  0.0730,  0.0125, -0.0389],\n",
       "        [-0.0207,  0.0670, -0.0753,  ...,  0.0723,  0.0455,  0.0756],\n",
       "        [-0.0911,  0.0579, -0.0306,  ...,  0.0678,  0.0998,  0.0375],\n",
       "        ...,\n",
       "        [-0.0706, -0.0004, -0.0015,  ..., -0.0799, -0.0398, -0.0413],\n",
       "        [ 0.0930,  0.0323,  0.0404,  ...,  0.0560, -0.0506,  0.0843],\n",
       "        [-0.0266, -0.0067,  0.0581,  ..., -0.0118,  0.0052, -0.0085]],\n",
       "       requires_grad=True)"
      ]
     },
     "execution_count": 150,
     "metadata": {},
     "output_type": "execute_result"
    }
   ],
   "source": [
    "lstm.weight_hh_l0"
   ]
  },
  {
   "cell_type": "code",
   "execution_count": 151,
   "metadata": {
    "ExecuteTime": {
     "end_time": "2020-05-08T10:21:05.624284Z",
     "start_time": "2020-05-08T10:21:05.621735Z"
    }
   },
   "outputs": [],
   "source": [
    "aux  = lstm.forward(x.view(1,batch_size,-1))"
   ]
  },
  {
   "cell_type": "code",
   "execution_count": 152,
   "metadata": {
    "ExecuteTime": {
     "end_time": "2020-05-08T10:21:05.770969Z",
     "start_time": "2020-05-08T10:21:05.767604Z"
    }
   },
   "outputs": [
    {
     "data": {
      "text/plain": [
       "torch.Size([1, 5, 100])"
      ]
     },
     "execution_count": 152,
     "metadata": {},
     "output_type": "execute_result"
    }
   ],
   "source": [
    "aux[0].size()"
   ]
  },
  {
   "cell_type": "code",
   "execution_count": null,
   "metadata": {
    "collapsed": true
   },
   "outputs": [],
   "source": []
  },
  {
   "cell_type": "code",
   "execution_count": null,
   "metadata": {
    "collapsed": true
   },
   "outputs": [],
   "source": []
  },
  {
   "cell_type": "code",
   "execution_count": null,
   "metadata": {
    "collapsed": true
   },
   "outputs": [],
   "source": []
  },
  {
   "cell_type": "code",
   "execution_count": null,
   "metadata": {
    "collapsed": true
   },
   "outputs": [],
   "source": []
  },
  {
   "cell_type": "code",
   "execution_count": null,
   "metadata": {
    "collapsed": true
   },
   "outputs": [],
   "source": []
  },
  {
   "cell_type": "code",
   "execution_count": null,
   "metadata": {
    "collapsed": true
   },
   "outputs": [],
   "source": []
  },
  {
   "cell_type": "code",
   "execution_count": null,
   "metadata": {
    "collapsed": true
   },
   "outputs": [],
   "source": []
  }
 ],
 "metadata": {
  "kernelspec": {
   "display_name": "Python 3",
   "language": "python",
   "name": "python3"
  },
  "language_info": {
   "codemirror_mode": {
    "name": "ipython",
    "version": 3
   },
   "file_extension": ".py",
   "mimetype": "text/x-python",
   "name": "python",
   "nbconvert_exporter": "python",
   "pygments_lexer": "ipython3",
   "version": "3.6.7"
  },
  "toc": {
   "base_numbering": 1,
   "nav_menu": {},
   "number_sections": true,
   "sideBar": true,
   "skip_h1_title": false,
   "title_cell": "Table of Contents",
   "title_sidebar": "Contents",
   "toc_cell": true,
   "toc_position": {},
   "toc_section_display": true,
   "toc_window_display": true
  }
 },
 "nbformat": 4,
 "nbformat_minor": 2
}
